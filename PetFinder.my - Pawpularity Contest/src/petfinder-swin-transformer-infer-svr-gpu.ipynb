{
 "cells": [
  {
   "cell_type": "code",
   "execution_count": 1,
   "id": "2928f5fb",
   "metadata": {
    "_cell_guid": "b1076dfc-b9ad-4769-8c92-a6c4dae69d19",
    "_uuid": "8f2839f25d086af736a60e9eeb907d3b93b6e0e5",
    "execution": {
     "iopub.execute_input": "2021-12-04T07:05:56.203248Z",
     "iopub.status.busy": "2021-12-04T07:05:56.201683Z",
     "iopub.status.idle": "2021-12-04T07:05:56.211615Z",
     "shell.execute_reply": "2021-12-04T07:05:56.211077Z",
     "shell.execute_reply.started": "2021-12-04T05:53:14.859662Z"
    },
    "papermill": {
     "duration": 0.03266,
     "end_time": "2021-12-04T07:05:56.211755",
     "exception": false,
     "start_time": "2021-12-04T07:05:56.179095",
     "status": "completed"
    },
    "tags": []
   },
   "outputs": [],
   "source": [
    "import sys\n",
    "sys.path.append(\"../input/tez-lib/\")\n",
    "sys.path.append(\"../input/timmmaster/\")"
   ]
  },
  {
   "cell_type": "markdown",
   "id": "042fbce9",
   "metadata": {
    "papermill": {
     "duration": 0.013058,
     "end_time": "2021-12-04T07:05:56.239923",
     "exception": false,
     "start_time": "2021-12-04T07:05:56.226865",
     "status": "completed"
    },
    "tags": []
   },
   "source": [
    "## Import libraries"
   ]
  },
  {
   "cell_type": "code",
   "execution_count": 2,
   "id": "799209b1",
   "metadata": {
    "execution": {
     "iopub.execute_input": "2021-12-04T07:05:56.285147Z",
     "iopub.status.busy": "2021-12-04T07:05:56.284035Z",
     "iopub.status.idle": "2021-12-04T07:06:05.243536Z",
     "shell.execute_reply": "2021-12-04T07:06:05.243005Z",
     "shell.execute_reply.started": "2021-12-04T05:53:14.886361Z"
    },
    "papermill": {
     "duration": 8.988386,
     "end_time": "2021-12-04T07:06:05.243707",
     "exception": false,
     "start_time": "2021-12-04T07:05:56.255321",
     "status": "completed"
    },
    "tags": []
   },
   "outputs": [],
   "source": [
    "import tez\n",
    "import os\n",
    "import albumentations\n",
    "import pandas as pd\n",
    "import cv2\n",
    "import numpy as np\n",
    "import torch\n",
    "import torch.nn as nn\n",
    "import math\n",
    "import random\n",
    "import timm\n",
    "import gc\n",
    "\n",
    "from sklearn import metrics\n",
    "from tez.callbacks import EarlyStopping\n",
    "from tqdm import tqdm\n",
    "\n",
    "ONLY_ONE_FOLD=False"
   ]
  },
  {
   "cell_type": "markdown",
   "id": "61277679",
   "metadata": {
    "papermill": {
     "duration": 0.013783,
     "end_time": "2021-12-04T07:06:05.271836",
     "exception": false,
     "start_time": "2021-12-04T07:06:05.258053",
     "status": "completed"
    },
    "tags": []
   },
   "source": [
    "## import RAPDIS"
   ]
  },
  {
   "cell_type": "code",
   "execution_count": 3,
   "id": "0283871b",
   "metadata": {
    "execution": {
     "iopub.execute_input": "2021-12-04T07:06:05.306075Z",
     "iopub.status.busy": "2021-12-04T07:06:05.305285Z",
     "iopub.status.idle": "2021-12-04T07:06:08.272695Z",
     "shell.execute_reply": "2021-12-04T07:06:08.273133Z",
     "shell.execute_reply.started": "2021-12-04T05:53:24.562834Z"
    },
    "papermill": {
     "duration": 2.987251,
     "end_time": "2021-12-04T07:06:08.273283",
     "exception": false,
     "start_time": "2021-12-04T07:06:05.286032",
     "status": "completed"
    },
    "tags": []
   },
   "outputs": [
    {
     "name": "stdout",
     "output_type": "stream",
     "text": [
      "RAPIDS version 21.08.02 \n",
      "\n",
      "Train shape: (24077, 3)\n"
     ]
    },
    {
     "data": {
      "text/html": [
       "<div>\n",
       "<style scoped>\n",
       "    .dataframe tbody tr th:only-of-type {\n",
       "        vertical-align: middle;\n",
       "    }\n",
       "\n",
       "    .dataframe tbody tr th {\n",
       "        vertical-align: top;\n",
       "    }\n",
       "\n",
       "    .dataframe thead th {\n",
       "        text-align: right;\n",
       "    }\n",
       "</style>\n",
       "<table border=\"1\" class=\"dataframe\">\n",
       "  <thead>\n",
       "    <tr style=\"text-align: right;\">\n",
       "      <th></th>\n",
       "      <th>Id</th>\n",
       "      <th>Pawpularity</th>\n",
       "      <th>kfold</th>\n",
       "    </tr>\n",
       "  </thead>\n",
       "  <tbody>\n",
       "    <tr>\n",
       "      <th>0</th>\n",
       "      <td>0007de18844b0dbbb5e1f607da0606e0</td>\n",
       "      <td>63</td>\n",
       "      <td>1</td>\n",
       "    </tr>\n",
       "    <tr>\n",
       "      <th>1</th>\n",
       "      <td>0009c66b9439883ba2750fb825e1d7db</td>\n",
       "      <td>42</td>\n",
       "      <td>8</td>\n",
       "    </tr>\n",
       "    <tr>\n",
       "      <th>2</th>\n",
       "      <td>0013fd999caf9a3efe1352ca1b0d937e</td>\n",
       "      <td>28</td>\n",
       "      <td>2</td>\n",
       "    </tr>\n",
       "    <tr>\n",
       "      <th>3</th>\n",
       "      <td>0018df346ac9c1d8413cfcc888ca8246</td>\n",
       "      <td>15</td>\n",
       "      <td>6</td>\n",
       "    </tr>\n",
       "    <tr>\n",
       "      <th>4</th>\n",
       "      <td>001dc955e10590d3ca4673f034feeef2</td>\n",
       "      <td>72</td>\n",
       "      <td>6</td>\n",
       "    </tr>\n",
       "  </tbody>\n",
       "</table>\n",
       "</div>"
      ],
      "text/plain": [
       "                                 Id  Pawpularity  kfold\n",
       "0  0007de18844b0dbbb5e1f607da0606e0           63      1\n",
       "1  0009c66b9439883ba2750fb825e1d7db           42      8\n",
       "2  0013fd999caf9a3efe1352ca1b0d937e           28      2\n",
       "3  0018df346ac9c1d8413cfcc888ca8246           15      6\n",
       "4  001dc955e10590d3ca4673f034feeef2           72      6"
      ]
     },
     "execution_count": 3,
     "metadata": {},
     "output_type": "execute_result"
    }
   ],
   "source": [
    "import cuml, pickle\n",
    "from cuml.svm import SVR\n",
    "print('RAPIDS version', cuml.__version__,'\\n')\n",
    "\n",
    "LOAD_SVR_FROM_PATH = None\n",
    "\n",
    "df = pd.read_csv('../input/pet-remove-dup-ver4/train_remove_dup_pseudo_10folds_ver2.csv')\n",
    "print('Train shape:', df.shape )\n",
    "df.head()"
   ]
  },
  {
   "cell_type": "markdown",
   "id": "8f8743af",
   "metadata": {
    "papermill": {
     "duration": 0.014247,
     "end_time": "2021-12-04T07:06:08.302328",
     "exception": false,
     "start_time": "2021-12-04T07:06:08.288081",
     "status": "completed"
    },
    "tags": []
   },
   "source": [
    "## Set seed"
   ]
  },
  {
   "cell_type": "code",
   "execution_count": 4,
   "id": "3c0d1262",
   "metadata": {
    "execution": {
     "iopub.execute_input": "2021-12-04T07:06:08.336085Z",
     "iopub.status.busy": "2021-12-04T07:06:08.335507Z",
     "iopub.status.idle": "2021-12-04T07:06:08.342807Z",
     "shell.execute_reply": "2021-12-04T07:06:08.343367Z",
     "shell.execute_reply.started": "2021-12-04T05:53:27.847630Z"
    },
    "papermill": {
     "duration": 0.027172,
     "end_time": "2021-12-04T07:06:08.343535",
     "exception": false,
     "start_time": "2021-12-04T07:06:08.316363",
     "status": "completed"
    },
    "tags": []
   },
   "outputs": [
    {
     "name": "stdout",
     "output_type": "stream",
     "text": [
      "set seed\n"
     ]
    }
   ],
   "source": [
    "def set_seed(seed):\n",
    "    random.seed(seed)\n",
    "    os.environ['PYTHONHASHSEED'] = str(seed)\n",
    "    np.random.seed(seed)\n",
    "    torch.manual_seed(seed)\n",
    "    torch.cuda.manual_seed(seed)\n",
    "    #torch.cuda.manual_seed_all(seed) # if use multi-GPU\n",
    "\n",
    "    torch.backends.cudnn.deterministic = True\n",
    "    torch.backends.cudnn.benchmark = False\n",
    "\n",
    "set_seed(2021)\n",
    "print(\"set seed\")"
   ]
  },
  {
   "cell_type": "code",
   "execution_count": 5,
   "id": "b912f206",
   "metadata": {
    "execution": {
     "iopub.execute_input": "2021-12-04T07:06:08.377965Z",
     "iopub.status.busy": "2021-12-04T07:06:08.377152Z",
     "iopub.status.idle": "2021-12-04T07:06:08.379826Z",
     "shell.execute_reply": "2021-12-04T07:06:08.379293Z",
     "shell.execute_reply.started": "2021-12-04T05:53:27.860708Z"
    },
    "papermill": {
     "duration": 0.021664,
     "end_time": "2021-12-04T07:06:08.379945",
     "exception": false,
     "start_time": "2021-12-04T07:06:08.358281",
     "status": "completed"
    },
    "tags": []
   },
   "outputs": [],
   "source": [
    "class args:\n",
    "    batch_size = 16\n",
    "    image_size = 224\n",
    "    epochs = 20\n",
    "    fold = 10\n",
    "    head_out = 192\n",
    "    #features = 0\n",
    "\n",
    "def sigmoid(x):\n",
    "    return 1 / (1 + math.exp(-x))"
   ]
  },
  {
   "cell_type": "code",
   "execution_count": 6,
   "id": "482fbad3",
   "metadata": {
    "execution": {
     "iopub.execute_input": "2021-12-04T07:06:08.417635Z",
     "iopub.status.busy": "2021-12-04T07:06:08.416744Z",
     "iopub.status.idle": "2021-12-04T07:06:08.419569Z",
     "shell.execute_reply": "2021-12-04T07:06:08.418976Z",
     "shell.execute_reply.started": "2021-12-04T05:53:27.869391Z"
    },
    "papermill": {
     "duration": 0.025293,
     "end_time": "2021-12-04T07:06:08.419681",
     "exception": false,
     "start_time": "2021-12-04T07:06:08.394388",
     "status": "completed"
    },
    "tags": []
   },
   "outputs": [],
   "source": [
    "class PawpularDataset:\n",
    "    def __init__(self, image_paths, targets, augmentations):\n",
    "        self.image_paths = image_paths\n",
    "        #self.dense_features = dense_features\n",
    "        self.targets = targets\n",
    "        self.augmentations = augmentations\n",
    "        \n",
    "    def __len__(self):\n",
    "        return len(self.image_paths)\n",
    "    \n",
    "    def __getitem__(self, item):\n",
    "        image = cv2.imread(self.image_paths[item])\n",
    "        image = cv2.cvtColor(image, cv2.COLOR_BGR2RGB)\n",
    "        \n",
    "        if self.augmentations is not None:\n",
    "            augmented = self.augmentations(image=image)\n",
    "            image = augmented[\"image\"]\n",
    "        \n",
    "        # (720, 405, 3) -> (3, 720, 405)\n",
    "        image = np.transpose(image, (2, 0, 1)).astype(np.float32)\n",
    "        \n",
    "        #features = self.dense_features[item, :]\n",
    "        targets = self.targets[item] / 100.0\n",
    "        \n",
    "        return {\n",
    "            \"image\": torch.tensor(image, dtype=torch.float),\n",
    "            #\"features\": torch.tensor(features, dtype=torch.float),\n",
    "            \"targets\": torch.tensor(targets, dtype=torch.float),\n",
    "        }"
   ]
  },
  {
   "cell_type": "code",
   "execution_count": 7,
   "id": "aa610528",
   "metadata": {
    "execution": {
     "iopub.execute_input": "2021-12-04T07:06:08.456954Z",
     "iopub.status.busy": "2021-12-04T07:06:08.456206Z",
     "iopub.status.idle": "2021-12-04T07:06:08.458205Z",
     "shell.execute_reply": "2021-12-04T07:06:08.458632Z",
     "shell.execute_reply.started": "2021-12-04T05:53:27.880629Z"
    },
    "papermill": {
     "duration": 0.024604,
     "end_time": "2021-12-04T07:06:08.458773",
     "exception": false,
     "start_time": "2021-12-04T07:06:08.434169",
     "status": "completed"
    },
    "tags": []
   },
   "outputs": [],
   "source": [
    "class PawpularModel(tez.Model):\n",
    "    def __init__(self, model_name, train=True, head_out=128):\n",
    "        super().__init__()\n",
    "        \n",
    "        self.model = timm.create_model(model_name, pretrained=train, in_chans=3)\n",
    "        self.model.head = nn.Linear(self.model.head.in_features, head_out)\n",
    "        self.dropout = nn.Dropout(0.2)\n",
    "        self.dense1 = nn.Linear(head_out, 64)\n",
    "        self.selu = nn.SELU()\n",
    "        self.relu = nn.ReLU()\n",
    "        self.dense2 = nn.Linear(64, head_out)\n",
    "        self.dense3 = nn.Linear(head_out, 32)\n",
    "        self.dense4 = nn.Linear(32, 1)\n",
    "        self.dense4.bias.data = torch.nn.Parameter(\n",
    "            torch.Tensor([0.0])\n",
    "        )\n",
    "        \n",
    "    def forward(self, image, targets=None):\n",
    "        \n",
    "        x1 = self.model(image) \n",
    "        x = self.dense1(x1) \n",
    "        x = self.selu(x)\n",
    "        x = self.dense2(x) \n",
    "        x = x*0.7 + x1*0.3\n",
    "        x = self.selu(x)\n",
    "        x = self.dense3(x)\n",
    "        x = self.relu(x)\n",
    "        x = self.dense4(x)\n",
    "        x = torch.cat([x, x1], dim=1)\n",
    "        \n",
    "        return x, 0, {}"
   ]
  },
  {
   "cell_type": "code",
   "execution_count": 8,
   "id": "867d3f7b",
   "metadata": {
    "execution": {
     "iopub.execute_input": "2021-12-04T07:06:08.489855Z",
     "iopub.status.busy": "2021-12-04T07:06:08.487369Z",
     "iopub.status.idle": "2021-12-04T07:06:08.492126Z",
     "shell.execute_reply": "2021-12-04T07:06:08.491683Z",
     "shell.execute_reply.started": "2021-12-04T05:53:27.894928Z"
    },
    "papermill": {
     "duration": 0.02011,
     "end_time": "2021-12-04T07:06:08.492234",
     "exception": false,
     "start_time": "2021-12-04T07:06:08.472124",
     "status": "completed"
    },
    "tags": []
   },
   "outputs": [],
   "source": [
    "test_aug = albumentations.Compose(\n",
    "    [\n",
    "        albumentations.Resize(args.image_size, args.image_size, p=1),\n",
    "        albumentations.Normalize(\n",
    "            mean=[0.485, 0.456, 0.406],\n",
    "            std=[0.229, 0.224, 0.225],\n",
    "            max_pixel_value=255.0,\n",
    "            p=1.0,\n",
    "        ),\n",
    "    ],\n",
    "    p=1.0,\n",
    ")"
   ]
  },
  {
   "cell_type": "markdown",
   "id": "7b8fc40a",
   "metadata": {
    "papermill": {
     "duration": 0.01333,
     "end_time": "2021-12-04T07:06:08.519116",
     "exception": false,
     "start_time": "2021-12-04T07:06:08.505786",
     "status": "completed"
    },
    "tags": []
   },
   "source": [
    "## Infer Test and OOF"
   ]
  },
  {
   "cell_type": "code",
   "execution_count": 9,
   "id": "a2d5725a",
   "metadata": {
    "execution": {
     "iopub.execute_input": "2021-12-04T07:06:08.563666Z",
     "iopub.status.busy": "2021-12-04T07:06:08.562955Z",
     "iopub.status.idle": "2021-12-04T08:17:12.303709Z",
     "shell.execute_reply": "2021-12-04T08:17:12.303184Z",
     "shell.execute_reply.started": "2021-12-04T05:53:27.907657Z"
    },
    "papermill": {
     "duration": 4263.771167,
     "end_time": "2021-12-04T08:17:12.303844",
     "exception": false,
     "start_time": "2021-12-04T07:06:08.532677",
     "status": "completed"
    },
    "tags": []
   },
   "outputs": [
    {
     "name": "stdout",
     "output_type": "stream",
     "text": [
      "#########################\n",
      "### FOLD 1\n",
      "#########################\n",
      "Extracting train embedding...\n"
     ]
    },
    {
     "name": "stderr",
     "output_type": "stream",
     "text": [
      " 46%|████▌     | 625/1355 [02:54<02:52,  4.23it/s, stage=test]Corrupt JPEG data: premature end of data segment\n",
      " 60%|██████    | 815/1355 [03:39<02:09,  4.19it/s, stage=test]Corrupt JPEG data: 240 extraneous bytes before marker 0xd9\n",
      "100%|██████████| 1355/1355 [06:24<00:00,  3.52it/s, stage=test]\n"
     ]
    },
    {
     "name": "stdout",
     "output_type": "stream",
     "text": [
      "Fitting SVR...\n",
      "Predicting test...\n"
     ]
    },
    {
     "name": "stderr",
     "output_type": "stream",
     "text": [
      "100%|██████████| 1/1 [00:00<00:00,  2.48it/s, stage=test]\n"
     ]
    },
    {
     "name": "stdout",
     "output_type": "stream",
     "text": [
      "Predicting oof...\n"
     ]
    },
    {
     "name": "stderr",
     "output_type": "stream",
     "text": [
      "100%|██████████| 151/151 [00:42<00:00,  3.55it/s, stage=test]\n"
     ]
    },
    {
     "name": "stdout",
     "output_type": "stream",
     "text": [
      "NN RSME = 21.87076213426693 \n",
      "\n",
      "SVR RSME = 18.34926285125973 \n",
      "\n",
      "Ensemble RSME = 18.961972934072556 \n",
      "\n",
      "#########################\n",
      "### FOLD 2\n",
      "#########################\n",
      "Extracting train embedding...\n"
     ]
    },
    {
     "name": "stderr",
     "output_type": "stream",
     "text": [
      " 46%|████▋     | 629/1355 [02:41<02:50,  4.26it/s, stage=test]Corrupt JPEG data: premature end of data segment\n",
      " 60%|██████    | 816/1355 [03:25<02:07,  4.23it/s, stage=test]Corrupt JPEG data: 240 extraneous bytes before marker 0xd9\n",
      "100%|██████████| 1355/1355 [06:05<00:00,  3.71it/s, stage=test]\n"
     ]
    },
    {
     "name": "stdout",
     "output_type": "stream",
     "text": [
      "Fitting SVR...\n",
      "Predicting test...\n"
     ]
    },
    {
     "name": "stderr",
     "output_type": "stream",
     "text": [
      "100%|██████████| 1/1 [00:00<00:00,  2.23it/s, stage=test]\n"
     ]
    },
    {
     "name": "stdout",
     "output_type": "stream",
     "text": [
      "Predicting oof...\n"
     ]
    },
    {
     "name": "stderr",
     "output_type": "stream",
     "text": [
      "100%|██████████| 151/151 [00:39<00:00,  3.83it/s, stage=test]\n"
     ]
    },
    {
     "name": "stdout",
     "output_type": "stream",
     "text": [
      "NN RSME = 22.979213212836335 \n",
      "\n",
      "SVR RSME = 19.1417416771014 \n",
      "\n",
      "Ensemble RSME = 19.895623069766813 \n",
      "\n",
      "#########################\n",
      "### FOLD 3\n",
      "#########################\n",
      "Extracting train embedding...\n"
     ]
    },
    {
     "name": "stderr",
     "output_type": "stream",
     "text": [
      " 46%|████▋     | 627/1355 [02:39<02:50,  4.26it/s, stage=test]Corrupt JPEG data: premature end of data segment\n",
      " 60%|██████    | 813/1355 [03:23<02:07,  4.24it/s, stage=test]Corrupt JPEG data: 240 extraneous bytes before marker 0xd9\n",
      "100%|██████████| 1355/1355 [06:06<00:00,  3.70it/s, stage=test]\n"
     ]
    },
    {
     "name": "stdout",
     "output_type": "stream",
     "text": [
      "Fitting SVR...\n",
      "Predicting test...\n"
     ]
    },
    {
     "name": "stderr",
     "output_type": "stream",
     "text": [
      "100%|██████████| 1/1 [00:00<00:00,  2.77it/s, stage=test]\n"
     ]
    },
    {
     "name": "stdout",
     "output_type": "stream",
     "text": [
      "Predicting oof...\n"
     ]
    },
    {
     "name": "stderr",
     "output_type": "stream",
     "text": [
      "100%|██████████| 151/151 [00:39<00:00,  3.78it/s, stage=test]\n"
     ]
    },
    {
     "name": "stdout",
     "output_type": "stream",
     "text": [
      "NN RSME = 22.35022976874255 \n",
      "\n",
      "SVR RSME = 18.368890481778823 \n",
      "\n",
      "Ensemble RSME = 19.2228466323464 \n",
      "\n",
      "#########################\n",
      "### FOLD 4\n",
      "#########################\n",
      "Extracting train embedding...\n"
     ]
    },
    {
     "name": "stderr",
     "output_type": "stream",
     "text": [
      " 46%|████▌     | 626/1355 [02:38<02:55,  4.15it/s, stage=test]Corrupt JPEG data: premature end of data segment\n",
      " 60%|█████▉    | 812/1355 [03:22<02:07,  4.25it/s, stage=test]Corrupt JPEG data: 240 extraneous bytes before marker 0xd9\n",
      "100%|██████████| 1355/1355 [06:03<00:00,  3.73it/s, stage=test]\n"
     ]
    },
    {
     "name": "stdout",
     "output_type": "stream",
     "text": [
      "Fitting SVR...\n",
      "Predicting test...\n"
     ]
    },
    {
     "name": "stderr",
     "output_type": "stream",
     "text": [
      "100%|██████████| 1/1 [00:00<00:00,  1.88it/s, stage=test]\n"
     ]
    },
    {
     "name": "stdout",
     "output_type": "stream",
     "text": [
      "Predicting oof...\n"
     ]
    },
    {
     "name": "stderr",
     "output_type": "stream",
     "text": [
      "100%|██████████| 151/151 [00:40<00:00,  3.69it/s, stage=test]\n"
     ]
    },
    {
     "name": "stdout",
     "output_type": "stream",
     "text": [
      "NN RSME = 22.72736497861887 \n",
      "\n",
      "SVR RSME = 18.677310827432542 \n",
      "\n",
      "Ensemble RSME = 19.517863768069475 \n",
      "\n",
      "#########################\n",
      "### FOLD 5\n",
      "#########################\n",
      "Extracting train embedding...\n"
     ]
    },
    {
     "name": "stderr",
     "output_type": "stream",
     "text": [
      " 46%|████▋     | 627/1355 [02:40<02:53,  4.20it/s, stage=test]Corrupt JPEG data: premature end of data segment\n",
      " 60%|██████    | 815/1355 [03:24<02:07,  4.24it/s, stage=test]Corrupt JPEG data: 240 extraneous bytes before marker 0xd9\n",
      "100%|██████████| 1355/1355 [06:03<00:00,  3.72it/s, stage=test]\n"
     ]
    },
    {
     "name": "stdout",
     "output_type": "stream",
     "text": [
      "Fitting SVR...\n",
      "Predicting test...\n"
     ]
    },
    {
     "name": "stderr",
     "output_type": "stream",
     "text": [
      "100%|██████████| 1/1 [00:00<00:00,  2.17it/s, stage=test]\n"
     ]
    },
    {
     "name": "stdout",
     "output_type": "stream",
     "text": [
      "Predicting oof...\n"
     ]
    },
    {
     "name": "stderr",
     "output_type": "stream",
     "text": [
      "100%|██████████| 151/151 [00:42<00:00,  3.59it/s, stage=test]\n"
     ]
    },
    {
     "name": "stdout",
     "output_type": "stream",
     "text": [
      "NN RSME = 22.320325075291475 \n",
      "\n",
      "SVR RSME = 18.598553253723637 \n",
      "\n",
      "Ensemble RSME = 19.27343898049811 \n",
      "\n",
      "#########################\n",
      "### FOLD 6\n",
      "#########################\n",
      "Extracting train embedding...\n"
     ]
    },
    {
     "name": "stderr",
     "output_type": "stream",
     "text": [
      " 46%|████▌     | 626/1355 [02:50<02:50,  4.27it/s, stage=test]Corrupt JPEG data: premature end of data segment\n",
      " 60%|██████    | 814/1355 [03:35<02:07,  4.25it/s, stage=test]Corrupt JPEG data: 240 extraneous bytes before marker 0xd9\n",
      "100%|██████████| 1355/1355 [06:16<00:00,  3.60it/s, stage=test]\n"
     ]
    },
    {
     "name": "stdout",
     "output_type": "stream",
     "text": [
      "Fitting SVR...\n",
      "Predicting test...\n"
     ]
    },
    {
     "name": "stderr",
     "output_type": "stream",
     "text": [
      "100%|██████████| 1/1 [00:00<00:00,  2.35it/s, stage=test]\n"
     ]
    },
    {
     "name": "stdout",
     "output_type": "stream",
     "text": [
      "Predicting oof...\n"
     ]
    },
    {
     "name": "stderr",
     "output_type": "stream",
     "text": [
      "100%|██████████| 151/151 [00:41<00:00,  3.67it/s, stage=test]\n"
     ]
    },
    {
     "name": "stdout",
     "output_type": "stream",
     "text": [
      "NN RSME = 22.197891000723686 \n",
      "\n",
      "SVR RSME = 18.658645164495063 \n",
      "\n",
      "Ensemble RSME = 19.240035012713886 \n",
      "\n",
      "#########################\n",
      "### FOLD 7\n",
      "#########################\n",
      "Extracting train embedding...\n"
     ]
    },
    {
     "name": "stderr",
     "output_type": "stream",
     "text": [
      " 46%|████▋     | 629/1355 [02:54<02:50,  4.27it/s, stage=test]Corrupt JPEG data: premature end of data segment\n",
      " 60%|██████    | 816/1355 [03:38<02:06,  4.26it/s, stage=test]Corrupt JPEG data: 240 extraneous bytes before marker 0xd9\n",
      "100%|██████████| 1355/1355 [06:20<00:00,  3.56it/s, stage=test]\n"
     ]
    },
    {
     "name": "stdout",
     "output_type": "stream",
     "text": [
      "Fitting SVR...\n",
      "Predicting test...\n"
     ]
    },
    {
     "name": "stderr",
     "output_type": "stream",
     "text": [
      "100%|██████████| 1/1 [00:00<00:00,  2.91it/s, stage=test]\n"
     ]
    },
    {
     "name": "stdout",
     "output_type": "stream",
     "text": [
      "Predicting oof...\n"
     ]
    },
    {
     "name": "stderr",
     "output_type": "stream",
     "text": [
      "100%|██████████| 151/151 [00:41<00:00,  3.68it/s, stage=test]\n"
     ]
    },
    {
     "name": "stdout",
     "output_type": "stream",
     "text": [
      "NN RSME = 22.48911173355616 \n",
      "\n",
      "SVR RSME = 18.708734251994432 \n",
      "\n",
      "Ensemble RSME = 19.42046952896813 \n",
      "\n",
      "#########################\n",
      "### FOLD 8\n",
      "#########################\n",
      "Extracting train embedding...\n"
     ]
    },
    {
     "name": "stderr",
     "output_type": "stream",
     "text": [
      " 46%|████▋     | 628/1355 [02:40<02:50,  4.27it/s, stage=test]Corrupt JPEG data: premature end of data segment\n",
      "100%|██████████| 1355/1355 [06:05<00:00,  3.71it/s, stage=test]\n"
     ]
    },
    {
     "name": "stdout",
     "output_type": "stream",
     "text": [
      "Fitting SVR...\n",
      "Predicting test...\n"
     ]
    },
    {
     "name": "stderr",
     "output_type": "stream",
     "text": [
      "100%|██████████| 1/1 [00:00<00:00,  2.91it/s, stage=test]\n"
     ]
    },
    {
     "name": "stdout",
     "output_type": "stream",
     "text": [
      "Predicting oof...\n"
     ]
    },
    {
     "name": "stderr",
     "output_type": "stream",
     "text": [
      " 56%|█████▋    | 85/151 [00:21<00:15,  4.31it/s, stage=test]Corrupt JPEG data: 240 extraneous bytes before marker 0xd9\n",
      "100%|██████████| 151/151 [00:41<00:00,  3.68it/s, stage=test]\n"
     ]
    },
    {
     "name": "stdout",
     "output_type": "stream",
     "text": [
      "NN RSME = 22.898813208894545 \n",
      "\n",
      "SVR RSME = 19.053201256036 \n",
      "\n",
      "Ensemble RSME = 19.79411319300342 \n",
      "\n",
      "#########################\n",
      "### FOLD 9\n",
      "#########################\n",
      "Extracting train embedding...\n"
     ]
    },
    {
     "name": "stderr",
     "output_type": "stream",
     "text": [
      " 60%|██████    | 816/1355 [03:26<02:09,  4.15it/s, stage=test]Corrupt JPEG data: 240 extraneous bytes before marker 0xd9\n",
      "100%|██████████| 1355/1355 [06:04<00:00,  3.72it/s, stage=test]\n"
     ]
    },
    {
     "name": "stdout",
     "output_type": "stream",
     "text": [
      "Fitting SVR...\n",
      "Predicting test...\n"
     ]
    },
    {
     "name": "stderr",
     "output_type": "stream",
     "text": [
      "100%|██████████| 1/1 [00:00<00:00,  2.93it/s, stage=test]\n"
     ]
    },
    {
     "name": "stdout",
     "output_type": "stream",
     "text": [
      "Predicting oof...\n"
     ]
    },
    {
     "name": "stderr",
     "output_type": "stream",
     "text": [
      " 42%|████▏     | 63/151 [00:16<00:20,  4.30it/s, stage=test]Corrupt JPEG data: premature end of data segment\n",
      "100%|██████████| 151/151 [00:40<00:00,  3.70it/s, stage=test]\n"
     ]
    },
    {
     "name": "stdout",
     "output_type": "stream",
     "text": [
      "NN RSME = 22.166326211822444 \n",
      "\n",
      "SVR RSME = 18.51883944262671 \n",
      "\n",
      "Ensemble RSME = 19.185503817764523 \n",
      "\n",
      "#########################\n",
      "### FOLD 10\n",
      "#########################\n",
      "Extracting train embedding...\n"
     ]
    },
    {
     "name": "stderr",
     "output_type": "stream",
     "text": [
      " 46%|████▌     | 625/1355 [02:39<02:53,  4.21it/s, stage=test]Corrupt JPEG data: premature end of data segment\n",
      " 60%|██████    | 814/1355 [03:25<02:20,  3.84it/s, stage=test]Corrupt JPEG data: 240 extraneous bytes before marker 0xd9\n",
      "100%|██████████| 1355/1355 [06:05<00:00,  3.71it/s, stage=test]\n"
     ]
    },
    {
     "name": "stdout",
     "output_type": "stream",
     "text": [
      "Fitting SVR...\n",
      "Predicting test...\n"
     ]
    },
    {
     "name": "stderr",
     "output_type": "stream",
     "text": [
      "100%|██████████| 1/1 [00:00<00:00,  2.93it/s, stage=test]\n"
     ]
    },
    {
     "name": "stdout",
     "output_type": "stream",
     "text": [
      "Predicting oof...\n"
     ]
    },
    {
     "name": "stderr",
     "output_type": "stream",
     "text": [
      "100%|██████████| 151/151 [00:41<00:00,  3.67it/s, stage=test]"
     ]
    },
    {
     "name": "stdout",
     "output_type": "stream",
     "text": [
      "NN RSME = 22.11292674475713 \n",
      "\n",
      "SVR RSME = 18.48845910439097 \n",
      "\n",
      "Ensemble RSME = 19.113483668885408 \n",
      "\n",
      "CPU times: user 46min 47s, sys: 1min 22s, total: 48min 10s\n",
      "Wall time: 1h 11min 3s\n"
     ]
    },
    {
     "name": "stderr",
     "output_type": "stream",
     "text": [
      "\n"
     ]
    }
   ],
   "source": [
    "%%time\n",
    "\n",
    "super_final_predictions = []\n",
    "super_final_predictions2 = []\n",
    "super_final_oof_predictions = []\n",
    "super_final_oof_predictions2 = []\n",
    "super_final_oof_true = []\n",
    "\n",
    "for fold_ in range(args.fold):\n",
    "    print('#'*25)\n",
    "    print('### FOLD',fold_+1)\n",
    "    print('#'*25)\n",
    "\n",
    "    model = PawpularModel(model_name='swin_large_patch4_window7_224', train=False,\n",
    "                           head_out=args.head_out)\n",
    "    model.load(f\"../input/paw-ver11-model/model_f{fold_}.bin\", device=\"cuda\", weights_only=True)\n",
    "\n",
    "    df_test = pd.read_csv(\"../input/petfinder-pawpularity-score/test.csv\")\n",
    "    test_img_paths = [f\"../input/petfinder-pawpularity-score/test/{x}.jpg\" for x in df_test[\"Id\"].values]\n",
    "        \n",
    "    df_valid = df[df.kfold == fold_].reset_index(drop=True)#.iloc[:160]\n",
    "    valid_img_paths = [f\"../input/my-petfinder-pawpularity-score/train/{x}.jpg\" for x in df_valid[\"Id\"].values]\n",
    "\n",
    "    #dense_features = [\n",
    "    #    'Subject Focus', 'Eyes', 'Face', 'Near', 'Action', 'Accessory',\n",
    "    #    'Group', 'Collage', 'Human', 'Occlusion', 'Info', 'Blur'\n",
    "    #]\n",
    "    \n",
    "    name = f\"SVR_fold_{fold_}.pkl\" \n",
    "    if LOAD_SVR_FROM_PATH is None:\n",
    "        ##################\n",
    "        # EXTRACT TRAIN EMBEDDINGS\n",
    "        \n",
    "        df_train = df[df.kfold != fold_].reset_index(drop=True)#.iloc[:320]\n",
    "        train_img_paths = [f\"../input/my-petfinder-pawpularity-score/train/{x}.jpg\" for x in df_train[\"Id\"].values]\n",
    "        \n",
    "        train_dataset = PawpularDataset(\n",
    "            image_paths=train_img_paths,\n",
    "            #dense_features=df_train[dense_features].values,\n",
    "            targets=df_train['Pawpularity'].values,\n",
    "            augmentations=test_aug,\n",
    "        )\n",
    "        print('Extracting train embedding...')\n",
    "        train_predictions = model.predict(train_dataset, batch_size=args.batch_size, n_jobs=-1)\n",
    "    \n",
    "        embed = np.array([]).reshape((0, args.head_out))\n",
    "        for preds in train_predictions:\n",
    "            # preds[:, 1:]는 마지막 cat([x, x1], dim=1)에서 최종값 x를 제외하기 위한 것이네.\n",
    "            # 추출하는 건 swin model의 첫 output x1 + meta feature \n",
    "            embed = np.concatenate([embed, preds[:,1:]], axis=0)\n",
    "        \n",
    "        ##################\n",
    "        # FIT RAPIDS SVR\n",
    "        print('Fitting SVR...')\n",
    "        clf = SVR(C=20.0)\n",
    "        clf.fit(embed.astype('float32'), df_train.Pawpularity.values.astype('int32'))\n",
    "    \n",
    "        ##################\n",
    "        # SAVE RAPIDS SVR \n",
    "        pickle.dump(clf, open(name, \"wb\"))\n",
    "        \n",
    "    else:\n",
    "        ##################\n",
    "        # LOAD RAPIDS SVR \n",
    "        print('Loading SVR...',LOAD_SVR_FROM_PATH+name)\n",
    "        clf = pickle.load(open(LOAD_SVR_FROM_PATH+name, \"rb\"))\n",
    "\n",
    "    ##################\n",
    "    # TEST PREDICTIONS\n",
    "    test_dataset = PawpularDataset(\n",
    "        image_paths=test_img_paths,\n",
    "        #dense_features=df_test[dense_features].values,\n",
    "        targets=np.ones(len(test_img_paths)),\n",
    "        augmentations=test_aug,\n",
    "    )\n",
    "    print('Predicting test...')\n",
    "    test_predictions = model.predict(test_dataset, batch_size=args.batch_size, n_jobs=-1)\n",
    "\n",
    "    final_test_predictions = []\n",
    "    embed = np.array([]).reshape((0, args.head_out))\n",
    "    for preds in test_predictions: #tqdm\n",
    "        final_test_predictions.extend(preds[:,:1].ravel().tolist())\n",
    "        embed = np.concatenate([embed,preds[:,1:]],axis=0)\n",
    "\n",
    "    final_test_predictions = [sigmoid(x) * 100 for x in final_test_predictions]\n",
    "    final_test_predictions2 = clf.predict(embed)\n",
    "    super_final_predictions.append(final_test_predictions)\n",
    "    super_final_predictions2.append(final_test_predictions2)\n",
    "    ##################\n",
    "    \n",
    "    ##################\n",
    "    # OOF PREDICTIONS\n",
    "    valid_dataset = PawpularDataset(\n",
    "        image_paths=valid_img_paths,\n",
    "        #dense_features=df_valid[dense_features].values,\n",
    "        targets=df_valid['Pawpularity'].values,\n",
    "        augmentations=test_aug,\n",
    "    )\n",
    "    print('Predicting oof...')\n",
    "    valid_predictions = model.predict(valid_dataset, batch_size=args.batch_size, n_jobs=-1)\n",
    "\n",
    "    final_oof_predictions = []\n",
    "    embed = np.array([]).reshape((0, args.head_out))\n",
    "    for preds in valid_predictions:\n",
    "        final_oof_predictions.extend(preds[:,:1].ravel().tolist())\n",
    "        embed = np.concatenate([embed,preds[:,1:]],axis=0)\n",
    "\n",
    "    final_oof_predictions = [sigmoid(x) * 100 for x in final_oof_predictions]\n",
    "    final_oof_predictions2 = clf.predict(embed)    \n",
    "    super_final_oof_predictions.append(final_oof_predictions)\n",
    "    super_final_oof_predictions2.append(final_oof_predictions2)\n",
    "    \n",
    "    final_oof_true = df_valid['Pawpularity'].values\n",
    "    super_final_oof_true.append(final_oof_true)\n",
    "    ##################\n",
    "    \n",
    "    ##################\n",
    "    # COMPUTE RSME\n",
    "    rsme = np.sqrt( np.mean( (super_final_oof_true[-1] - np.array(super_final_oof_predictions[-1]))**2.0 ) )\n",
    "    print('NN RSME =',rsme,'\\n')\n",
    "    rsme = np.sqrt( np.mean( (super_final_oof_true[-1] - np.array(super_final_oof_predictions2[-1]))**2.0 ) )\n",
    "    print('SVR RSME =',rsme,'\\n')\n",
    "    \n",
    "    w = 0.5\n",
    "    oof2 = (1-w)*np.array(super_final_oof_predictions[-1]) + w*np.array(super_final_oof_predictions2[-1])\n",
    "    rsme = np.sqrt( np.mean( (super_final_oof_true[-1] - oof2)**2.0 ) )\n",
    "    print('Ensemble RSME =',rsme,'\\n')"
   ]
  },
  {
   "cell_type": "markdown",
   "id": "76c4a1b4",
   "metadata": {
    "papermill": {
     "duration": 7.83375,
     "end_time": "2021-12-04T08:17:28.143929",
     "exception": false,
     "start_time": "2021-12-04T08:17:20.310179",
     "status": "completed"
    },
    "tags": []
   },
   "source": [
    "## Compute CV score"
   ]
  },
  {
   "cell_type": "code",
   "execution_count": 10,
   "id": "78004b31",
   "metadata": {
    "execution": {
     "iopub.execute_input": "2021-12-04T08:17:44.709088Z",
     "iopub.status.busy": "2021-12-04T08:17:44.702342Z",
     "iopub.status.idle": "2021-12-04T08:17:44.714892Z",
     "shell.execute_reply": "2021-12-04T08:17:44.715322Z",
     "shell.execute_reply.started": "2021-12-04T07:02:28.919896Z"
    },
    "papermill": {
     "duration": 8.626126,
     "end_time": "2021-12-04T08:17:44.715464",
     "exception": false,
     "start_time": "2021-12-04T08:17:36.089338",
     "status": "completed"
    },
    "tags": []
   },
   "outputs": [
    {
     "name": "stdout",
     "output_type": "stream",
     "text": [
      "Overall CV NN head RSME = 22.413897487483283\n",
      "Overall CV SVR head RSME = 18.65803137346057\n",
      "Overall CV Ensemble heads RSME with 50% NN and 50% SVR = 19.36458554678469\n"
     ]
    }
   ],
   "source": [
    "true = np.hstack(super_final_oof_true)\n",
    "\n",
    "oof = np.hstack(super_final_oof_predictions)\n",
    "rsme = np.sqrt( np.mean( (oof - true)**2.0 ))\n",
    "print('Overall CV NN head RSME =',rsme)\n",
    "\n",
    "oof2 = np.hstack(super_final_oof_predictions2)\n",
    "rsme = np.sqrt( np.mean( (oof2 - true)**2.0 ))\n",
    "print('Overall CV SVR head RSME =',rsme)\n",
    "\n",
    "oof3 = (1-w)*oof + w*oof2\n",
    "#oof3 = (1-best_w)*oof + best_w*oof2\n",
    "rsme = np.sqrt( np.mean( (oof3 - true)**2.0 ))\n",
    "print('Overall CV Ensemble heads RSME with 50% NN and 50% SVR =',rsme)"
   ]
  },
  {
   "cell_type": "markdown",
   "id": "fd7a8fe0",
   "metadata": {
    "papermill": {
     "duration": 7.771122,
     "end_time": "2021-12-04T08:18:00.524538",
     "exception": false,
     "start_time": "2021-12-04T08:17:52.753416",
     "status": "completed"
    },
    "tags": []
   },
   "source": [
    "## Find best ensemble weight"
   ]
  },
  {
   "cell_type": "code",
   "execution_count": 11,
   "id": "862caee2",
   "metadata": {
    "execution": {
     "iopub.execute_input": "2021-12-04T08:18:17.354896Z",
     "iopub.status.busy": "2021-12-04T08:18:17.353768Z",
     "iopub.status.idle": "2021-12-04T08:18:17.616370Z",
     "shell.execute_reply": "2021-12-04T08:18:17.615905Z",
     "shell.execute_reply.started": "2021-12-04T07:02:28.936068Z"
    },
    "papermill": {
     "duration": 8.981983,
     "end_time": "2021-12-04T08:18:17.616498",
     "exception": false,
     "start_time": "2021-12-04T08:18:08.634515",
     "status": "completed"
    },
    "tags": []
   },
   "outputs": [
    {
     "data": {
      "image/png": "[encoded data removed]",
      "text/plain": [
       "<Figure size 1440x360 with 1 Axes>"
      ]
     },
     "metadata": {
      "needs_background": "light"
     },
     "output_type": "display_data"
    },
    {
     "name": "stdout",
     "output_type": "stream",
     "text": [
      "0.9\n"
     ]
    }
   ],
   "source": [
    "import matplotlib.pyplot as plt\n",
    "\n",
    "score = []\n",
    "for ww in np.arange(0,1.05,0.05):\n",
    "    oof3 = (1-ww)*oof + ww*oof2\n",
    "    rsme = np.sqrt( np.mean( (oof3 - true)**2.0 ))\n",
    "    #print(f'{ww:0.2} CV Ensemble RSME =',rsme)\n",
    "    score.append(rsme)\n",
    "best_w = np.argmin(score)*0.05\n",
    "\n",
    "plt.figure(figsize=(20,5))\n",
    "plt.plot(np.arange(21)/20.0,score,'-o')\n",
    "plt.plot([best_w],np.min(score),'o',color='black',markersize=15)\n",
    "plt.title(f'Best Overall CV RSME={np.min(score):.4} with SVR Ensemble Weight={best_w:.2}',size=16)\n",
    "plt.ylabel('Overall Ensemble RSME',size=14)\n",
    "plt.xlabel('SVR Weight',size=14)\n",
    "plt.show()\n",
    "\n",
    "print(best_w)"
   ]
  },
  {
   "cell_type": "markdown",
   "id": "aae62925",
   "metadata": {
    "papermill": {
     "duration": 7.756215,
     "end_time": "2021-12-04T08:18:33.316059",
     "exception": false,
     "start_time": "2021-12-04T08:18:25.559844",
     "status": "completed"
    },
    "tags": []
   },
   "source": [
    "## Make submission csv"
   ]
  },
  {
   "cell_type": "code",
   "execution_count": 12,
   "id": "7a19f008",
   "metadata": {
    "execution": {
     "iopub.execute_input": "2021-12-04T08:18:49.816746Z",
     "iopub.status.busy": "2021-12-04T08:18:49.810145Z",
     "iopub.status.idle": "2021-12-04T08:18:49.829868Z",
     "shell.execute_reply": "2021-12-04T08:18:49.829072Z",
     "shell.execute_reply.started": "2021-12-04T07:02:29.225241Z"
    },
    "papermill": {
     "duration": 8.419939,
     "end_time": "2021-12-04T08:18:49.829993",
     "exception": false,
     "start_time": "2021-12-04T08:18:41.410054",
     "status": "completed"
    },
    "tags": []
   },
   "outputs": [
    {
     "data": {
      "text/html": [
       "<div>\n",
       "<style scoped>\n",
       "    .dataframe tbody tr th:only-of-type {\n",
       "        vertical-align: middle;\n",
       "    }\n",
       "\n",
       "    .dataframe tbody tr th {\n",
       "        vertical-align: top;\n",
       "    }\n",
       "\n",
       "    .dataframe thead th {\n",
       "        text-align: right;\n",
       "    }\n",
       "</style>\n",
       "<table border=\"1\" class=\"dataframe\">\n",
       "  <thead>\n",
       "    <tr style=\"text-align: right;\">\n",
       "      <th></th>\n",
       "      <th>Id</th>\n",
       "      <th>Pawpularity</th>\n",
       "    </tr>\n",
       "  </thead>\n",
       "  <tbody>\n",
       "    <tr>\n",
       "      <th>0</th>\n",
       "      <td>4128bae22183829d2b5fea10effdb0c3</td>\n",
       "      <td>36.758657</td>\n",
       "    </tr>\n",
       "    <tr>\n",
       "      <th>1</th>\n",
       "      <td>43a2262d7738e3d420d453815151079e</td>\n",
       "      <td>36.614798</td>\n",
       "    </tr>\n",
       "    <tr>\n",
       "      <th>2</th>\n",
       "      <td>4e429cead1848a298432a0acad014c9d</td>\n",
       "      <td>36.944297</td>\n",
       "    </tr>\n",
       "    <tr>\n",
       "      <th>3</th>\n",
       "      <td>80bc3ccafcc51b66303c2c263aa38486</td>\n",
       "      <td>37.217009</td>\n",
       "    </tr>\n",
       "    <tr>\n",
       "      <th>4</th>\n",
       "      <td>8f49844c382931444e68dffbe20228f4</td>\n",
       "      <td>36.534157</td>\n",
       "    </tr>\n",
       "  </tbody>\n",
       "</table>\n",
       "</div>"
      ],
      "text/plain": [
       "                                 Id  Pawpularity\n",
       "0  4128bae22183829d2b5fea10effdb0c3    36.758657\n",
       "1  43a2262d7738e3d420d453815151079e    36.614798\n",
       "2  4e429cead1848a298432a0acad014c9d    36.944297\n",
       "3  80bc3ccafcc51b66303c2c263aa38486    37.217009\n",
       "4  8f49844c382931444e68dffbe20228f4    36.534157"
      ]
     },
     "execution_count": 12,
     "metadata": {},
     "output_type": "execute_result"
    }
   ],
   "source": [
    "super_final_predictions = np.mean(np.column_stack(super_final_predictions), axis=1)\n",
    "super_final_predictions2 = np.mean(np.column_stack(super_final_predictions2), axis=1)\n",
    "df_test[\"Pawpularity\"] = (1-best_w)*super_final_predictions + best_w*super_final_predictions2\n",
    "df_test = df_test[[\"Id\", \"Pawpularity\"]]\n",
    "df_test.to_csv(\"submission.csv\", index=False)\n",
    "df_test.head()"
   ]
  },
  {
   "cell_type": "code",
   "execution_count": null,
   "id": "fd6188b4",
   "metadata": {
    "papermill": {
     "duration": 7.765637,
     "end_time": "2021-12-04T08:19:05.595720",
     "exception": false,
     "start_time": "2021-12-04T08:18:57.830083",
     "status": "completed"
    },
    "tags": []
   },
   "outputs": [],
   "source": []
  }
 ],
 "metadata": {
  "kernelspec": {
   "display_name": "Python 3",
   "language": "python",
   "name": "python3"
  },
  "language_info": {
   "codemirror_mode": {
    "name": "ipython",
    "version": 3
   },
   "file_extension": ".py",
   "mimetype": "text/x-python",
   "name": "python",
   "nbconvert_exporter": "python",
   "pygments_lexer": "ipython3",
   "version": "3.7.10"
  },
  "papermill": {
   "default_parameters": {},
   "duration": 4408.085319,
   "end_time": "2021-12-04T08:19:16.683702",
   "environment_variables": {},
   "exception": null,
   "input_path": "__notebook__.ipynb",
   "output_path": "__notebook__.ipynb",
   "parameters": {},
   "start_time": "2021-12-04T07:05:48.598383",
   "version": "2.3.3"
  }
 },
 "nbformat": 4,
 "nbformat_minor": 5
}
