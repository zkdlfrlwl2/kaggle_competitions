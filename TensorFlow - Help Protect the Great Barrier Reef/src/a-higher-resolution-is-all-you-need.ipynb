{
 "cells": [
  {
   "cell_type": "markdown",
   "id": "65211d1c",
   "metadata": {
    "papermill": {
     "duration": 0.00642,
     "end_time": "2022-01-24T12:29:11.550576",
     "exception": false,
     "start_time": "2022-01-24T12:29:11.544156",
     "status": "completed"
    },
    "tags": []
   },
   "source": [
    "**This notebook is copy of this one https://www.kaggle.com/steamedsheep/yolov5-is-all-you-need I just follow the advices from discussion and changed the input size from 3000 to 10000**"
   ]
  },
  {
   "cell_type": "code",
   "execution_count": 1,
   "id": "e4e4c37b",
   "metadata": {
    "execution": {
     "iopub.execute_input": "2022-01-24T12:29:11.576437Z",
     "iopub.status.busy": "2022-01-24T12:29:11.575126Z",
     "iopub.status.idle": "2022-01-24T12:29:12.864871Z",
     "shell.execute_reply": "2022-01-24T12:29:12.863914Z",
     "shell.execute_reply.started": "2022-01-24T12:28:43.651033Z"
    },
    "papermill": {
     "duration": 1.307972,
     "end_time": "2022-01-24T12:29:12.865040",
     "exception": false,
     "start_time": "2022-01-24T12:29:11.557068",
     "status": "completed"
    },
    "tags": []
   },
   "outputs": [],
   "source": [
    "# This Python 3 environment comes with many helpful analytics libraries installed\n",
    "# It is defined by the kaggle/python Docker image: https://github.com/kaggle/docker-python\n",
    "# For example, here's several helpful packages to load\n",
    "\n",
    "import numpy as np # linear algebra\n",
    "import pandas as pd # data processing, CSV file I/O (e.g. pd.read_csv)\n",
    "import torch\n",
    "from tqdm import tqdm\n",
    "import sys\n",
    "\n",
    "sys.path.append('../input/tensorflow-great-barrier-reef')"
   ]
  },
  {
   "cell_type": "code",
   "execution_count": 2,
   "id": "29653987",
   "metadata": {
    "execution": {
     "iopub.execute_input": "2022-01-24T12:29:12.880717Z",
     "iopub.status.busy": "2022-01-24T12:29:12.877728Z",
     "iopub.status.idle": "2022-01-24T12:29:14.328188Z",
     "shell.execute_reply": "2022-01-24T12:29:14.327634Z",
     "shell.execute_reply.started": "2022-01-24T12:28:44.226480Z"
    },
    "papermill": {
     "duration": 1.457654,
     "end_time": "2022-01-24T12:29:14.328314",
     "exception": false,
     "start_time": "2022-01-24T12:29:12.870660",
     "status": "completed"
    },
    "tags": []
   },
   "outputs": [],
   "source": [
    "!mkdir -p /root/.config/Ultralytics\n",
    "!cp /kaggle/input/yolov5-font/Arial.ttf /root/.config/Ultralytics/"
   ]
  },
  {
   "cell_type": "code",
   "execution_count": 3,
   "id": "ef5b70c4",
   "metadata": {
    "execution": {
     "iopub.execute_input": "2022-01-24T12:29:14.345813Z",
     "iopub.status.busy": "2022-01-24T12:29:14.344612Z",
     "iopub.status.idle": "2022-01-24T12:29:14.360160Z",
     "shell.execute_reply": "2022-01-24T12:29:14.359757Z",
     "shell.execute_reply.started": "2022-01-24T12:28:45.965313Z"
    },
    "papermill": {
     "duration": 0.02625,
     "end_time": "2022-01-24T12:29:14.360270",
     "exception": false,
     "start_time": "2022-01-24T12:29:14.334020",
     "status": "completed"
    },
    "tags": []
   },
   "outputs": [],
   "source": [
    "import greatbarrierreef\n",
    "env = greatbarrierreef.make_env()# initialize the environment\n",
    "iter_test = env.iter_test()      # an iterator which loops over the test set and sample submission"
   ]
  },
  {
   "cell_type": "code",
   "execution_count": 4,
   "id": "638b3702",
   "metadata": {
    "execution": {
     "iopub.execute_input": "2022-01-24T12:29:14.374972Z",
     "iopub.status.busy": "2022-01-24T12:29:14.374236Z",
     "iopub.status.idle": "2022-01-24T12:29:22.621837Z",
     "shell.execute_reply": "2022-01-24T12:29:22.621347Z",
     "shell.execute_reply.started": "2022-01-24T12:28:45.985763Z"
    },
    "papermill": {
     "duration": 8.256363,
     "end_time": "2022-01-24T12:29:22.621977",
     "exception": false,
     "start_time": "2022-01-24T12:29:14.365614",
     "status": "completed"
    },
    "tags": []
   },
   "outputs": [
    {
     "name": "stderr",
     "output_type": "stream",
     "text": [
      "YOLOv5 🚀 2022-1-18 torch 1.9.1 CUDA:0 (Tesla P100-PCIE-16GB, 16281MiB)\n",
      "\n",
      "Fusing layers... \n",
      "Model Summary: 378 layers, 35248920 parameters, 0 gradients\n",
      "Adding AutoShape... \n"
     ]
    }
   ],
   "source": [
    "model = torch.hub.load('../input/yolov5-lib-ds', \n",
    "                       'custom', \n",
    "                       path='../input/cots-ver23/ver23/exp/weights/last.pt',\n",
    "                       source='local',\n",
    "                       force_reload=True)  # local repo\n",
    "model.conf = 0.01"
   ]
  },
  {
   "cell_type": "code",
   "execution_count": 5,
   "id": "9ee674f0",
   "metadata": {
    "execution": {
     "iopub.execute_input": "2022-01-24T12:29:22.643300Z",
     "iopub.status.busy": "2022-01-24T12:29:22.642578Z",
     "iopub.status.idle": "2022-01-24T12:29:28.924789Z",
     "shell.execute_reply": "2022-01-24T12:29:28.925356Z",
     "shell.execute_reply.started": "2022-01-24T12:28:50.889559Z"
    },
    "papermill": {
     "duration": 6.296667,
     "end_time": "2022-01-24T12:29:28.925550",
     "exception": false,
     "start_time": "2022-01-24T12:29:22.628883",
     "status": "completed"
    },
    "tags": []
   },
   "outputs": [
    {
     "name": "stderr",
     "output_type": "stream",
     "text": [
      "0it [00:00, ?it/s]"
     ]
    },
    {
     "name": "stdout",
     "output_type": "stream",
     "text": [
      "This version of the API is not optimized and should not be used to estimate the runtime of your code on the hidden test set.\n"
     ]
    },
    {
     "name": "stderr",
     "output_type": "stream",
     "text": [
      "3it [00:06,  2.09s/it]\n"
     ]
    }
   ],
   "source": [
    "for idx, (img, pred_df) in enumerate(tqdm(iter_test)):\n",
    "    anno = ''\n",
    "    r = model(img, size=3648, augment=True)\n",
    "    if r.pandas().xyxy[0].shape[0] == 0:\n",
    "        anno = ''\n",
    "    else:\n",
    "        for idx, row in r.pandas().xyxy[0].iterrows():\n",
    "            if row.confidence > 0.20:\n",
    "                anno += '{} {} {} {} {} '.format(row.confidence, int(row.xmin), int(row.ymin), int(row.xmax-row.xmin), int(row.ymax-row.ymin))\n",
    "#                 pred.append([row.confidence, row.xmin, row.ymin, row.xmax-row.xmin, row.ymax-row.ymin])\n",
    "    pred_df['annotations'] = anno.strip(' ')\n",
    "    env.predict(pred_df)"
   ]
  },
  {
   "cell_type": "code",
   "execution_count": null,
   "id": "d5901e0d",
   "metadata": {
    "papermill": {
     "duration": 0.007911,
     "end_time": "2022-01-24T12:29:28.942437",
     "exception": false,
     "start_time": "2022-01-24T12:29:28.934526",
     "status": "completed"
    },
    "tags": []
   },
   "outputs": [],
   "source": []
  }
 ],
 "metadata": {
  "kernelspec": {
   "display_name": "Python 3",
   "language": "python",
   "name": "python3"
  },
  "language_info": {
   "codemirror_mode": {
    "name": "ipython",
    "version": 3
   },
   "file_extension": ".py",
   "mimetype": "text/x-python",
   "name": "python",
   "nbconvert_exporter": "python",
   "pygments_lexer": "ipython3",
   "version": "3.7.12"
  },
  "papermill": {
   "default_parameters": {},
   "duration": 26.854175,
   "end_time": "2022-01-24T12:29:30.362148",
   "environment_variables": {},
   "exception": null,
   "input_path": "__notebook__.ipynb",
   "output_path": "__notebook__.ipynb",
   "parameters": {},
   "start_time": "2022-01-24T12:29:03.507973",
   "version": "2.3.3"
  }
 },
 "nbformat": 4,
 "nbformat_minor": 5
}
