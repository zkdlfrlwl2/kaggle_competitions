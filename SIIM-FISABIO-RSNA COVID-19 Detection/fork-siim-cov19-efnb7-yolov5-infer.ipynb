{
 "cells": [
  {
   "cell_type": "markdown",
   "id": "swiss-graphic",
   "metadata": {
    "papermill": {
     "duration": 0.019334,
     "end_time": "2021-08-08T10:35:53.358492",
     "exception": false,
     "start_time": "2021-08-08T10:35:53.339158",
     "status": "completed"
    },
    "tags": []
   },
   "source": [
    "This notebook is forked from https://www.kaggle.com/h053473666/siim-cov19-efnb7-yolov5-infer with the main modification is that I use the latest yolov5 version cloned from ultralytics's github. \n",
    "\n",
    "Also, in training phase, I trained for **150 epochs** while the original notebook trained on *30 epochs*.\n",
    "The score is improved from 0.598 to 0.602.\n",
    "\n",
    "You may to change hyperparameters in the hyp.yaml file to get better scores.\n",
    "# Update: \n",
    "1. Version 13+: apply model blend from https://www.kaggle.com/batprem/model-blend"
   ]
  },
  {
   "cell_type": "code",
   "execution_count": 1,
   "id": "false-detroit",
   "metadata": {
    "_kg_hide-input": true,
    "_kg_hide-output": true,
    "execution": {
     "iopub.execute_input": "2021-08-08T10:35:53.413091Z",
     "iopub.status.busy": "2021-08-08T10:35:53.412337Z",
     "iopub.status.idle": "2021-08-08T10:37:04.330602Z",
     "shell.execute_reply": "2021-08-08T10:37:04.329561Z",
     "shell.execute_reply.started": "2021-08-08T10:23:00.229159Z"
    },
    "papermill": {
     "duration": 70.953863,
     "end_time": "2021-08-08T10:37:04.330804",
     "exception": false,
     "start_time": "2021-08-08T10:35:53.376941",
     "status": "completed"
    },
    "tags": []
   },
   "outputs": [
    {
     "name": "stdout",
     "output_type": "stream",
     "text": [
      "\r\n",
      "Downloading and Extracting Packages\r\n",
      "######################################################################## | 100% \r\n",
      "Preparing transaction: - \b\bdone\r\n",
      "Verifying transaction: | \b\bdone\r\n",
      "Executing transaction: - \b\b\\ \b\bdone\r\n",
      "\r\n",
      "Downloading and Extracting Packages\r\n",
      "######################################################################## | 100% \r\n",
      "Preparing transaction: - \b\bdone\r\n",
      "Verifying transaction: | \b\bdone\r\n",
      "Executing transaction: - \b\b\\ \b\b| \b\bdone\r\n",
      "\r\n",
      "Downloading and Extracting Packages\r\n",
      "######################################################################## | 100% \r\n",
      "Preparing transaction: - \b\bdone\r\n",
      "Verifying transaction: | \b\bdone\r\n",
      "Executing transaction: - \b\bdone\r\n",
      "\r\n",
      "Downloading and Extracting Packages\r\n",
      "######################################################################## | 100% \r\n",
      "Preparing transaction: - \b\bdone\r\n",
      "Verifying transaction: | \b\bdone\r\n",
      "Executing transaction: - \b\b\\ \b\b| \b\b/ \b\b- \b\b\\ \b\b| \b\b/ \b\b- \b\b\\ \b\b| \b\b/ \b\b- \b\b\\ \b\b| \b\b/ \b\b- \b\b\\ \b\b| \b\b/ \b\bdone\r\n",
      "\r\n",
      "Downloading and Extracting Packages\r\n",
      "######################################################################## | 100% \r\n",
      "Preparing transaction: - \b\bdone\r\n",
      "Verifying transaction: | \b\bdone\r\n",
      "Executing transaction: - \b\bdone\r\n",
      "\r\n",
      "Downloading and Extracting Packages\r\n",
      "######################################################################## | 100% \r\n",
      "Preparing transaction: - \b\bdone\r\n",
      "Verifying transaction: | \b\bdone\r\n",
      "Executing transaction: - \b\b\\ \b\b| \b\b/ \b\b- \b\b\\ \b\b| \b\bdone\r\n"
     ]
    }
   ],
   "source": [
    "!conda install '/kaggle/input/pydicom-conda-helper/libjpeg-turbo-2.1.0-h7f98852_0.tar.bz2' -c conda-forge -y\n",
    "!conda install '/kaggle/input/pydicom-conda-helper/libgcc-ng-9.3.0-h2828fa1_19.tar.bz2' -c conda-forge -y\n",
    "!conda install '/kaggle/input/pydicom-conda-helper/gdcm-2.8.9-py37h500ead1_1.tar.bz2' -c conda-forge -y\n",
    "!conda install '/kaggle/input/pydicom-conda-helper/conda-4.10.1-py37h89c1867_0.tar.bz2' -c conda-forge -y\n",
    "!conda install '/kaggle/input/pydicom-conda-helper/certifi-2020.12.5-py37h89c1867_1.tar.bz2' -c conda-forge -y\n",
    "!conda install '/kaggle/input/pydicom-conda-helper/openssl-1.1.1k-h7f98852_0.tar.bz2' -c conda-forge -y"
   ]
  },
  {
   "cell_type": "code",
   "execution_count": 2,
   "id": "cosmetic-humanitarian",
   "metadata": {
    "_cell_guid": "b1076dfc-b9ad-4769-8c92-a6c4dae69d19",
    "_uuid": "8f2839f25d086af736a60e9eeb907d3b93b6e0e5",
    "execution": {
     "iopub.execute_input": "2021-08-08T10:37:04.412055Z",
     "iopub.status.busy": "2021-08-08T10:37:04.411417Z",
     "iopub.status.idle": "2021-08-08T10:37:04.420551Z",
     "shell.execute_reply": "2021-08-08T10:37:04.420078Z",
     "shell.execute_reply.started": "2021-08-08T10:24:09.091674Z"
    },
    "papermill": {
     "duration": 0.05046,
     "end_time": "2021-08-08T10:37:04.420679",
     "exception": false,
     "start_time": "2021-08-08T10:37:04.370219",
     "status": "completed"
    },
    "tags": []
   },
   "outputs": [],
   "source": [
    "import os\n",
    "\n",
    "from PIL import Image\n",
    "import pandas as pd\n",
    "from tqdm.auto import tqdm"
   ]
  },
  {
   "cell_type": "code",
   "execution_count": 3,
   "id": "funny-label",
   "metadata": {
    "execution": {
     "iopub.execute_input": "2021-08-08T10:37:04.506066Z",
     "iopub.status.busy": "2021-08-08T10:37:04.505540Z",
     "iopub.status.idle": "2021-08-08T10:37:04.521230Z",
     "shell.execute_reply": "2021-08-08T10:37:04.520792Z",
     "shell.execute_reply.started": "2021-08-08T10:24:09.107083Z"
    },
    "papermill": {
     "duration": 0.06056,
     "end_time": "2021-08-08T10:37:04.521340",
     "exception": false,
     "start_time": "2021-08-08T10:37:04.460780",
     "status": "completed"
    },
    "tags": []
   },
   "outputs": [],
   "source": [
    "df = pd.read_csv('/kaggle/input/siim-covid19-detection/sample_submission.csv')\n",
    "if df.shape[0] == 2477:\n",
    "    fast_sub = True\n",
    "    fast_df = pd.DataFrame(([['00086460a852_study', 'negative 1 0 0 1 1'], \n",
    "                         ['000c9c05fd14_study', 'negative 1 0 0 1 1'], \n",
    "                         ['65761e66de9f_image', 'none 1 0 0 1 1'], \n",
    "                         ['51759b5579bc_image', 'none 1 0 0 1 1']]), \n",
    "                       columns=['id', 'PredictionString'])\n",
    "else:\n",
    "    fast_sub = False"
   ]
  },
  {
   "cell_type": "code",
   "execution_count": 4,
   "id": "suspected-window",
   "metadata": {
    "execution": {
     "iopub.execute_input": "2021-08-08T10:37:04.603408Z",
     "iopub.status.busy": "2021-08-08T10:37:04.602211Z",
     "iopub.status.idle": "2021-08-08T10:37:04.604869Z",
     "shell.execute_reply": "2021-08-08T10:37:04.604460Z",
     "shell.execute_reply.started": "2021-08-08T10:24:09.135031Z"
    },
    "papermill": {
     "duration": 0.042684,
     "end_time": "2021-08-08T10:37:04.604985",
     "exception": false,
     "start_time": "2021-08-08T10:37:04.562301",
     "status": "completed"
    },
    "tags": []
   },
   "outputs": [],
   "source": [
    "# fast_sub = False"
   ]
  },
  {
   "cell_type": "markdown",
   "id": "positive-classic",
   "metadata": {
    "papermill": {
     "duration": 0.037895,
     "end_time": "2021-08-08T10:37:04.681032",
     "exception": false,
     "start_time": "2021-08-08T10:37:04.643137",
     "status": "completed"
    },
    "tags": []
   },
   "source": [
    "# .dcm to .png"
   ]
  },
  {
   "cell_type": "code",
   "execution_count": 5,
   "id": "aboriginal-durham",
   "metadata": {
    "execution": {
     "iopub.execute_input": "2021-08-08T10:37:04.763483Z",
     "iopub.status.busy": "2021-08-08T10:37:04.762587Z",
     "iopub.status.idle": "2021-08-08T10:37:04.920263Z",
     "shell.execute_reply": "2021-08-08T10:37:04.919738Z",
     "shell.execute_reply.started": "2021-08-08T10:24:09.141328Z"
    },
    "papermill": {
     "duration": 0.203767,
     "end_time": "2021-08-08T10:37:04.920400",
     "exception": false,
     "start_time": "2021-08-08T10:37:04.716633",
     "status": "completed"
    },
    "tags": []
   },
   "outputs": [],
   "source": [
    "import numpy as np\n",
    "import pydicom\n",
    "from pydicom.pixel_data_handlers.util import apply_voi_lut\n",
    "\n",
    "def read_xray(path, voi_lut = True, fix_monochrome = True):\n",
    "    # Original from: https://www.kaggle.com/raddar/convert-dicom-to-np-array-the-correct-way\n",
    "    dicom = pydicom.read_file(path)\n",
    "    \n",
    "    # VOI LUT (if available by DICOM device) is used to transform raw DICOM data to \n",
    "    # \"human-friendly\" view\n",
    "    if voi_lut:\n",
    "        data = apply_voi_lut(dicom.pixel_array, dicom)\n",
    "    else:\n",
    "        data = dicom.pixel_array\n",
    "               \n",
    "    # depending on this value, X-ray may look inverted - fix that:\n",
    "    if fix_monochrome and dicom.PhotometricInterpretation == \"MONOCHROME1\":\n",
    "        data = np.amax(data) - data\n",
    "        \n",
    "    data = data - np.min(data)\n",
    "    data = data / np.max(data)\n",
    "    data = (data * 255).astype(np.uint8)\n",
    "        \n",
    "    return data"
   ]
  },
  {
   "cell_type": "code",
   "execution_count": 6,
   "id": "civilian-notion",
   "metadata": {
    "execution": {
     "iopub.execute_input": "2021-08-08T10:37:05.002283Z",
     "iopub.status.busy": "2021-08-08T10:37:05.001518Z",
     "iopub.status.idle": "2021-08-08T10:37:05.004181Z",
     "shell.execute_reply": "2021-08-08T10:37:05.003781Z",
     "shell.execute_reply.started": "2021-08-08T10:24:09.406505Z"
    },
    "papermill": {
     "duration": 0.046486,
     "end_time": "2021-08-08T10:37:05.004290",
     "exception": false,
     "start_time": "2021-08-08T10:37:04.957804",
     "status": "completed"
    },
    "tags": []
   },
   "outputs": [],
   "source": [
    "def resize(array, size, keep_ratio=False, resample=Image.LANCZOS):\n",
    "    # Original from: https://www.kaggle.com/xhlulu/vinbigdata-process-and-resize-to-image\n",
    "    im = Image.fromarray(array)\n",
    "    \n",
    "    if keep_ratio:\n",
    "        im.thumbnail((size, size), resample)\n",
    "    else:\n",
    "        im = im.resize((size, size), resample)\n",
    "    \n",
    "    return im"
   ]
  },
  {
   "cell_type": "code",
   "execution_count": 7,
   "id": "proud-papua",
   "metadata": {
    "execution": {
     "iopub.execute_input": "2021-08-08T10:37:05.086986Z",
     "iopub.status.busy": "2021-08-08T10:37:05.086280Z",
     "iopub.status.idle": "2021-08-08T10:37:06.737478Z",
     "shell.execute_reply": "2021-08-08T10:37:06.736684Z",
     "shell.execute_reply.started": "2021-08-08T10:24:09.413584Z"
    },
    "papermill": {
     "duration": 1.698107,
     "end_time": "2021-08-08T10:37:06.737630",
     "exception": false,
     "start_time": "2021-08-08T10:37:05.039523",
     "status": "completed"
    },
    "tags": []
   },
   "outputs": [],
   "source": [
    "\n",
    "split = 'test'\n",
    "save_dir = f'/kaggle/tmp/{split}/'\n",
    "\n",
    "os.makedirs(save_dir, exist_ok=True)\n",
    "\n",
    "save_dir = f'/kaggle/tmp/{split}/study/'\n",
    "os.makedirs(save_dir, exist_ok=True)\n",
    "if fast_sub:\n",
    "    xray = read_xray('/kaggle/input/siim-covid19-detection/train/00086460a852/9e8302230c91/65761e66de9f.dcm')\n",
    "    im = resize(xray, size=600)  \n",
    "    study = '00086460a852' + '_study.png'\n",
    "    im.save(os.path.join(save_dir, study))\n",
    "    xray = read_xray('/kaggle/input/siim-covid19-detection/train/000c9c05fd14/e555410bd2cd/51759b5579bc.dcm')\n",
    "    im = resize(xray, size=600)  \n",
    "    study = '000c9c05fd14' + '_study.png'\n",
    "    im.save(os.path.join(save_dir, study))\n",
    "else:   \n",
    "    for dirname, _, filenames in tqdm(os.walk(f'/kaggle/input/siim-covid19-detection/{split}')):\n",
    "        for file in filenames:\n",
    "            # set keep_ratio=True to have original aspect ratio\n",
    "            xray = read_xray(os.path.join(dirname, file))\n",
    "            im = resize(xray, size=600)  \n",
    "            study = dirname.split('/')[-2] + '_study.png'\n",
    "            im.save(os.path.join(save_dir, study))\n"
   ]
  },
  {
   "cell_type": "code",
   "execution_count": 8,
   "id": "horizontal-cedar",
   "metadata": {
    "execution": {
     "iopub.execute_input": "2021-08-08T10:37:06.825531Z",
     "iopub.status.busy": "2021-08-08T10:37:06.824662Z",
     "iopub.status.idle": "2021-08-08T10:37:07.223184Z",
     "shell.execute_reply": "2021-08-08T10:37:07.222645Z",
     "shell.execute_reply.started": "2021-08-08T10:24:10.781046Z"
    },
    "papermill": {
     "duration": 0.448689,
     "end_time": "2021-08-08T10:37:07.223321",
     "exception": false,
     "start_time": "2021-08-08T10:37:06.774632",
     "status": "completed"
    },
    "tags": []
   },
   "outputs": [],
   "source": [
    "image_id = []\n",
    "dim0 = []\n",
    "dim1 = []\n",
    "splits = []\n",
    "save_dir = f'/kaggle/tmp/{split}/image/'\n",
    "os.makedirs(save_dir, exist_ok=True)\n",
    "if fast_sub:\n",
    "    xray = read_xray('/kaggle/input/siim-covid19-detection/train/00086460a852/9e8302230c91/65761e66de9f.dcm')\n",
    "    im = resize(xray, size=512)  \n",
    "    im.save(os.path.join(save_dir,'65761e66de9f_image.png'))\n",
    "    image_id.append('65761e66de9f.dcm'.replace('.dcm', ''))\n",
    "    dim0.append(xray.shape[0])\n",
    "    dim1.append(xray.shape[1])\n",
    "    splits.append(split)\n",
    "    xray = read_xray('/kaggle/input/siim-covid19-detection/train/000c9c05fd14/e555410bd2cd/51759b5579bc.dcm')\n",
    "    im = resize(xray, size=512)  \n",
    "    im.save(os.path.join(save_dir, '51759b5579bc_image.png'))\n",
    "    image_id.append('51759b5579bc.dcm'.replace('.dcm', ''))\n",
    "    dim0.append(xray.shape[0])\n",
    "    dim1.append(xray.shape[1])\n",
    "    splits.append(split)\n",
    "else:\n",
    "    for dirname, _, filenames in tqdm(os.walk(f'/kaggle/input/siim-covid19-detection/{split}')):\n",
    "        for file in filenames:\n",
    "            # set keep_ratio=True to have original aspect ratio\n",
    "            xray = read_xray(os.path.join(dirname, file))\n",
    "            im = resize(xray, size=512)  \n",
    "            im.save(os.path.join(save_dir, file.replace('.dcm', '_image.png')))\n",
    "            image_id.append(file.replace('.dcm', ''))\n",
    "            dim0.append(xray.shape[0])\n",
    "            dim1.append(xray.shape[1])\n",
    "            splits.append(split)\n",
    "meta = pd.DataFrame.from_dict({'image_id': image_id, 'dim0': dim0, 'dim1': dim1, 'split': splits})"
   ]
  },
  {
   "cell_type": "markdown",
   "id": "dying-ordinance",
   "metadata": {
    "papermill": {
     "duration": 0.037814,
     "end_time": "2021-08-08T10:37:07.299632",
     "exception": false,
     "start_time": "2021-08-08T10:37:07.261818",
     "status": "completed"
    },
    "tags": []
   },
   "source": [
    "# study predict"
   ]
  },
  {
   "cell_type": "code",
   "execution_count": 9,
   "id": "improving-price",
   "metadata": {
    "execution": {
     "iopub.execute_input": "2021-08-08T10:37:07.392809Z",
     "iopub.status.busy": "2021-08-08T10:37:07.391885Z",
     "iopub.status.idle": "2021-08-08T10:37:07.394711Z",
     "shell.execute_reply": "2021-08-08T10:37:07.394236Z",
     "shell.execute_reply.started": "2021-08-08T10:24:11.166053Z"
    },
    "papermill": {
     "duration": 0.059028,
     "end_time": "2021-08-08T10:37:07.394852",
     "exception": false,
     "start_time": "2021-08-08T10:37:07.335824",
     "status": "completed"
    },
    "tags": []
   },
   "outputs": [],
   "source": [
    "import numpy as np \n",
    "import pandas as pd\n",
    "if fast_sub:\n",
    "    df = fast_df.copy()\n",
    "else:\n",
    "    df = pd.read_csv('/kaggle/input/siim-covid19-detection/sample_submission.csv')\n",
    "id_laststr_list  = []\n",
    "for i in range(df.shape[0]):\n",
    "    id_laststr_list.append(df.loc[i,'id'][-1])\n",
    "df['id_last_str'] = id_laststr_list\n",
    "\n",
    "study_len = df[df['id_last_str'] == 'y'].shape[0]"
   ]
  },
  {
   "cell_type": "code",
   "execution_count": 10,
   "id": "continuous-movement",
   "metadata": {
    "execution": {
     "iopub.execute_input": "2021-08-08T10:37:07.497248Z",
     "iopub.status.busy": "2021-08-08T10:37:07.486769Z",
     "iopub.status.idle": "2021-08-08T10:44:15.386977Z",
     "shell.execute_reply": "2021-08-08T10:44:15.387441Z",
     "shell.execute_reply.started": "2021-08-08T10:24:11.192718Z"
    },
    "papermill": {
     "duration": 427.956113,
     "end_time": "2021-08-08T10:44:15.387631",
     "exception": false,
     "start_time": "2021-08-08T10:37:07.431518",
     "status": "completed"
    },
    "tags": []
   },
   "outputs": [
    {
     "name": "stdout",
     "output_type": "stream",
     "text": [
      "Running on 1 replicas\n",
      "1/1 [==============================] - 8s 8s/step\n",
      "1/1 [==============================] - 4s 4s/step\n",
      "1/1 [==============================] - 4s 4s/step\n",
      "1/1 [==============================] - 4s 4s/step\n",
      "1/1 [==============================] - 5s 5s/step\n",
      "1/1 [==============================] - 4s 4s/step\n",
      "1/1 [==============================] - 4s 4s/step\n",
      "1/1 [==============================] - 4s 4s/step\n",
      "1/1 [==============================] - 4s 4s/step\n",
      "1/1 [==============================] - 4s 4s/step\n",
      "1/1 [==============================] - 4s 4s/step\n",
      "1/1 [==============================] - 4s 4s/step\n",
      "1/1 [==============================] - 4s 4s/step\n",
      "1/1 [==============================] - 4s 4s/step\n",
      "1/1 [==============================] - 5s 5s/step\n"
     ]
    }
   ],
   "source": [
    "!pip install /kaggle/input/kerasapplications -q\n",
    "!pip install /kaggle/input/efficientnet-keras-source-code/ -q --no-deps\n",
    "\n",
    "import os\n",
    "\n",
    "import efficientnet.tfkeras as efn\n",
    "import numpy as np\n",
    "import pandas as pd\n",
    "import tensorflow as tf\n",
    "import tensorflow_addons as tfa\n",
    "import random\n",
    "\n",
    "def auto_select_accelerator():\n",
    "    try:\n",
    "        tpu = tf.distribute.cluster_resolver.TPUClusterResolver()\n",
    "        tf.config.experimental_connect_to_cluster(tpu)\n",
    "        tf.tpu.experimental.initialize_tpu_system(tpu)\n",
    "        strategy = tf.distribute.experimental.TPUStrategy(tpu)\n",
    "        print(\"Running on TPU:\", tpu.master())\n",
    "    except ValueError:\n",
    "        strategy = tf.distribute.get_strategy()\n",
    "    print(f\"Running on {strategy.num_replicas_in_sync} replicas\")\n",
    "\n",
    "    return strategy\n",
    "\n",
    "\n",
    "def build_decoder(with_labels=True, target_size=(300, 300), ext='jpg'):\n",
    "    def decode(path):\n",
    "        file_bytes = tf.io.read_file(path)\n",
    "        if ext == 'png':\n",
    "            img = tf.image.decode_png(file_bytes, channels=3)\n",
    "        elif ext in ['jpg', 'jpeg']:\n",
    "            img = tf.image.decode_jpeg(file_bytes, channels=3)\n",
    "        else:\n",
    "            raise ValueError(\"Image extension not supported\")\n",
    "\n",
    "        img = tf.cast(img, tf.float32) / 355.0\n",
    "        img = tf.image.resize(img, target_size)\n",
    "\n",
    "        return img\n",
    "\n",
    "    def decode_with_labels(path, label):\n",
    "        return decode(path), label\n",
    "\n",
    "    return decode_with_labels if with_labels else decode\n",
    "\n",
    "\n",
    "def build_augmenter(with_labels=True):\n",
    "    def augment(img):\n",
    "        #img = tf.image.random_flip_up_down(img)\n",
    "        img = tf.image.random_flip_left_right(img)\n",
    "        # img = tf.image.random_brightness(img, 0.2)\n",
    "        # img = tf.image.adjust_gamma(img, 1.0, 1.0) \n",
    "        # img = tf.image.adjust_saturation(img, 0.2)\n",
    "        \n",
    "        return img\n",
    "\n",
    "    def augment_with_labels(img, label):\n",
    "        return augment(img), label\n",
    "\n",
    "    return augment_with_labels if with_labels else augment\n",
    "\n",
    "\n",
    "def build_dataset(paths, labels=None, bsize=32, cache=True,\n",
    "                  decode_fn=None, augment_fn=None,\n",
    "                  augment=True, repeat=True, shuffle=1024, \n",
    "                  cache_dir=\"\"):\n",
    "    if cache_dir != \"\" and cache is True:\n",
    "        os.makedirs(cache_dir, exist_ok=True)\n",
    "\n",
    "    if decode_fn is None:\n",
    "        decode_fn = build_decoder(labels is not None)\n",
    "\n",
    "    if augment_fn is None:\n",
    "        augment_fn = build_augmenter(labels is not None)\n",
    "\n",
    "    AUTO = tf.data.experimental.AUTOTUNE\n",
    "    slices = paths if labels is None else (paths, labels)\n",
    "\n",
    "    dset = tf.data.Dataset.from_tensor_slices(slices)\n",
    "    dset = dset.map(decode_fn, num_parallel_calls=AUTO)\n",
    "    dset = dset.cache(cache_dir) if cache else dset\n",
    "    dset = dset.map(augment_fn, num_parallel_calls=AUTO) if augment else dset\n",
    "    dset = dset.repeat() if repeat else dset\n",
    "    dset = dset.shuffle(shuffle) if shuffle else dset\n",
    "    dset = dset.batch(bsize).prefetch(AUTO)\n",
    "\n",
    "    return dset\n",
    "\n",
    "#COMPETITION_NAME = \"siim-cov19-test-img512-study-600\"\n",
    "strategy = auto_select_accelerator()\n",
    "BATCH_SIZE = strategy.num_replicas_in_sync * 4\n",
    "\n",
    "IMSIZE = (224, 240, 260, 300, 380, 456, 528, 600, 512, 480)\n",
    "\n",
    "#load_dir = f\"/kaggle/input/{COMPETITION_NAME}/\"\n",
    "if fast_sub:\n",
    "    sub_df = fast_df.copy()\n",
    "else:\n",
    "    sub_df = pd.read_csv('/kaggle/input/siim-covid19-detection/sample_submission.csv')\n",
    "sub_df = sub_df[:study_len]\n",
    "test_paths = f'/kaggle/tmp/{split}/study/' + sub_df['id'] +'.png'\n",
    "\n",
    "sub_df['negative'] = 0\n",
    "sub_df['typical'] = 0\n",
    "sub_df['indeterminate'] = 0\n",
    "sub_df['atypical'] = 0\n",
    "\n",
    "\n",
    "label_cols = sub_df.columns[2:]\n",
    "\n",
    "test_decoder = build_decoder(with_labels=False, target_size=(IMSIZE[7], IMSIZE[7]), ext='png')\n",
    "dtest = build_dataset(\n",
    "    test_paths, bsize=BATCH_SIZE, repeat=False, \n",
    "    shuffle=False, augment=False, cache=False,\n",
    "    decode_fn=test_decoder\n",
    ")\n",
    "\n",
    "with strategy.scope():\n",
    "    \n",
    "    models = []\n",
    "    models_2 = []\n",
    "    models_3 = []\n",
    "    \n",
    "    models0 = tf.keras.models.load_model(\n",
    "        '../input/my-efnb7-noisystudent-ver4/model0.h5'\n",
    "    )\n",
    "    models1 = tf.keras.models.load_model(\n",
    "        '../input/my-efnb7-noisystudent-ver4/model1.h5'\n",
    "    )\n",
    "    models2 = tf.keras.models.load_model(\n",
    "        '../input/my-efnb7-noisystudent-ver4/model2.h5'\n",
    "    )\n",
    "    models3 = tf.keras.models.load_model(\n",
    "        '../input/my-efnb7-noisystudent-ver4/model3.h5'\n",
    "    )\n",
    "    models4 = tf.keras.models.load_model(\n",
    "        '../input/my-efnb7-noisystudent-ver4/model4.h5'\n",
    "    )\n",
    "    # -------------------------------------------------\n",
    "    models5 = tf.keras.models.load_model(\n",
    "        '../input/my-efnb7-noisystudent-ver10/model0.h5'\n",
    "    )\n",
    "    models6 = tf.keras.models.load_model(\n",
    "        '../input/my-efnb7-noisystudent-ver10/model1.h5'\n",
    "    )\n",
    "    models7 = tf.keras.models.load_model(\n",
    "        '../input/my-efnb7-noisystudent-ver10/model2.h5'\n",
    "    )\n",
    "    models8 = tf.keras.models.load_model(\n",
    "        '../input/my-efnb7-noisystudent-ver10/model3.h5'\n",
    "    )\n",
    "    models9 = tf.keras.models.load_model(\n",
    "        '../input/my-efnb7-noisystudent-ver10/model4.h5'\n",
    "    )\n",
    "    # -------------------------------------------------\n",
    "    models10 = tf.keras.models.load_model(\n",
    "        '../input/my-efnb7-noisystudent-ver17/model0.h5'\n",
    "    )\n",
    "    models11 = tf.keras.models.load_model(\n",
    "        '../input/my-efnb7-noisystudent-ver17/model1.h5'\n",
    "    )\n",
    "    models12 = tf.keras.models.load_model(\n",
    "        '../input/my-efnb7-noisystudent-ver17/model2.h5'\n",
    "    )\n",
    "    models13 = tf.keras.models.load_model(\n",
    "        '../input/my-efnb7-noisystudent-ver17/model3.h5'\n",
    "    )\n",
    "    models14 = tf.keras.models.load_model(\n",
    "        '../input/my-efnb7-noisystudent-ver17/model4.h5'\n",
    "    )\n",
    "    \n",
    "    \n",
    "    models.append(models0); models.append(models1); models.append(models2)\n",
    "    models.append(models3); models.append(models4)\n",
    "    # -------------------------------------------------\n",
    "    models_2.append(models5); models_2.append(models6); models_2.append(models7)\n",
    "    models_2.append(models8); models_2.append(models9)\n",
    "    # -------------------------------------------------\n",
    "    models_3.append(models10); models_3.append(models11); models_3.append(models12)\n",
    "    models_3.append(models13); models_3.append(models14)\n",
    "    \n",
    "weights = {\n",
    "    0: 3,\n",
    "    1: 1,\n",
    "    2: 1,\n",
    "    3: 1,\n",
    "    4: 1\n",
    "}\n",
    "\n",
    "weights2 = {\n",
    "    0: 1,\n",
    "    1: 1,\n",
    "    2: 3,\n",
    "    3: 1,\n",
    "    4: 1\n",
    "}\n",
    "\n",
    "weights3 = {\n",
    "    0: 1,\n",
    "    1: 1,\n",
    "    2: 1,\n",
    "    3: 1,\n",
    "    4: 1\n",
    "}\n",
    "\n",
    "weights_sum = sum(weights.values())\n",
    "weights = {k: v/weights_sum for k, v in weights.items()}\n",
    "\n",
    "predictions = [model.predict(dtest, verbose=1) for model in models]\n",
    "for i, pred in enumerate(predictions):\n",
    "    predictions[i] = weights[i] * pred\n",
    "    \n",
    "# -------------------------------------------------\n",
    "\n",
    "weights_sum2 = sum(weights2.values())\n",
    "weights2 = {k: v/weights_sum2 for k, v in weights2.items()}\n",
    "\n",
    "predictions2 = [model2.predict(dtest, verbose=1) for model2 in models_2]\n",
    "for i, pred2 in enumerate(predictions2):\n",
    "    predictions2[i] = weights2[i] * pred2\n",
    "    \n",
    "# -------------------------------------------------\n",
    "\n",
    "weights_sum3 = sum(weights3.values())\n",
    "weights3 = {k: v/weights_sum3 for k, v in weights3.items()}\n",
    "\n",
    "predictions3 = [model3.predict(dtest, verbose=1) for model3 in models_3]\n",
    "for i, pred3 in enumerate(predictions3):\n",
    "    predictions3[i] = weights3[i] * pred3    \n",
    "    \n",
    "sub_df[label_cols] = ((sum(predictions)) + (sum(predictions2)) + (sum(predictions3)))/3.0\n",
    "#sub_df[label_cols] = ((1.2*sum(predictions)) + (0.8*sum(predictions2)))/2.0\n",
    "#sub_df[label_cols] = sum(predictions3)\n",
    "#sub_df[label_cols] = sum([model.predict(dtest, verbose=1) for model in models]) / len(models)"
   ]
  },
  {
   "cell_type": "code",
   "execution_count": 11,
   "id": "selective-object",
   "metadata": {
    "execution": {
     "iopub.execute_input": "2021-08-08T10:44:15.500868Z",
     "iopub.status.busy": "2021-08-08T10:44:15.500131Z",
     "iopub.status.idle": "2021-08-08T10:44:15.505845Z",
     "shell.execute_reply": "2021-08-08T10:44:15.505343Z",
     "shell.execute_reply.started": "2021-08-08T10:30:41.178747Z"
    },
    "papermill": {
     "duration": 0.068066,
     "end_time": "2021-08-08T10:44:15.505980",
     "exception": false,
     "start_time": "2021-08-08T10:44:15.437914",
     "status": "completed"
    },
    "tags": []
   },
   "outputs": [],
   "source": [
    "sub_df.columns = ['id', 'PredictionString1', 'negative', 'typical', 'indeterminate', 'atypical']\n",
    "df = pd.merge(df, sub_df, on = 'id', how = 'left')"
   ]
  },
  {
   "cell_type": "markdown",
   "id": "promotional-shooting",
   "metadata": {
    "papermill": {
     "duration": 0.043819,
     "end_time": "2021-08-08T10:44:15.598371",
     "exception": false,
     "start_time": "2021-08-08T10:44:15.554552",
     "status": "completed"
    },
    "tags": []
   },
   "source": [
    "# study string"
   ]
  },
  {
   "cell_type": "code",
   "execution_count": 12,
   "id": "ordered-roulette",
   "metadata": {
    "execution": {
     "iopub.execute_input": "2021-08-08T10:44:15.699313Z",
     "iopub.status.busy": "2021-08-08T10:44:15.698651Z",
     "iopub.status.idle": "2021-08-08T10:44:15.702073Z",
     "shell.execute_reply": "2021-08-08T10:44:15.701626Z",
     "shell.execute_reply.started": "2021-08-08T10:30:41.199393Z"
    },
    "papermill": {
     "duration": 0.054831,
     "end_time": "2021-08-08T10:44:15.702186",
     "exception": false,
     "start_time": "2021-08-08T10:44:15.647355",
     "status": "completed"
    },
    "tags": []
   },
   "outputs": [],
   "source": [
    "for i in range(study_len):\n",
    "    negative = df.loc[i,'negative']\n",
    "    typical = df.loc[i,'typical']\n",
    "    indeterminate = df.loc[i,'indeterminate']\n",
    "    atypical = df.loc[i,'atypical']\n",
    "    df.loc[i, 'PredictionString'] = f'negative {negative} 0 0 1 1 typical {typical} 0 0 1 1 indeterminate {indeterminate} 0 0 1 1 atypical {atypical} 0 0 1 1'"
   ]
  },
  {
   "cell_type": "code",
   "execution_count": 13,
   "id": "lesser-mozambique",
   "metadata": {
    "execution": {
     "iopub.execute_input": "2021-08-08T10:44:15.800279Z",
     "iopub.status.busy": "2021-08-08T10:44:15.799779Z",
     "iopub.status.idle": "2021-08-08T10:44:15.803704Z",
     "shell.execute_reply": "2021-08-08T10:44:15.803246Z",
     "shell.execute_reply.started": "2021-08-08T10:30:41.209381Z"
    },
    "papermill": {
     "duration": 0.052521,
     "end_time": "2021-08-08T10:44:15.803848",
     "exception": false,
     "start_time": "2021-08-08T10:44:15.751327",
     "status": "completed"
    },
    "tags": []
   },
   "outputs": [],
   "source": [
    "df_study = df[['id', 'PredictionString']]\n",
    "\n",
    "# df.to_csv('submission.csv',index=False)\n",
    "# df"
   ]
  },
  {
   "cell_type": "code",
   "execution_count": 14,
   "id": "oriented-fishing",
   "metadata": {
    "execution": {
     "iopub.execute_input": "2021-08-08T10:44:15.900368Z",
     "iopub.status.busy": "2021-08-08T10:44:15.899686Z",
     "iopub.status.idle": "2021-08-08T10:44:15.902861Z",
     "shell.execute_reply": "2021-08-08T10:44:15.902397Z",
     "shell.execute_reply.started": "2021-08-08T10:30:41.217702Z"
    },
    "papermill": {
     "duration": 0.052585,
     "end_time": "2021-08-08T10:44:15.902964",
     "exception": false,
     "start_time": "2021-08-08T10:44:15.850379",
     "status": "completed"
    },
    "tags": []
   },
   "outputs": [],
   "source": [
    "del models\n",
    "del models0, models1, models2, models3, models4\n",
    "\n",
    "del models_2\n",
    "del models5, models6, models7, models8, models9\n",
    "\n",
    "del models_3\n",
    "del models10, models11, models12, models13, models14"
   ]
  },
  {
   "cell_type": "markdown",
   "id": "mysterious-documentary",
   "metadata": {
    "papermill": {
     "duration": 0.047107,
     "end_time": "2021-08-08T10:44:15.994819",
     "exception": false,
     "start_time": "2021-08-08T10:44:15.947712",
     "status": "completed"
    },
    "tags": []
   },
   "source": [
    "# 2 class"
   ]
  },
  {
   "cell_type": "code",
   "execution_count": 15,
   "id": "confirmed-print",
   "metadata": {
    "execution": {
     "iopub.execute_input": "2021-08-08T10:44:16.102053Z",
     "iopub.status.busy": "2021-08-08T10:44:16.101258Z",
     "iopub.status.idle": "2021-08-08T10:46:23.412112Z",
     "shell.execute_reply": "2021-08-08T10:46:23.412863Z",
     "shell.execute_reply.started": "2021-08-08T10:30:41.227356Z"
    },
    "papermill": {
     "duration": 127.374976,
     "end_time": "2021-08-08T10:46:23.413076",
     "exception": false,
     "start_time": "2021-08-08T10:44:16.038100",
     "status": "completed"
    },
    "tags": []
   },
   "outputs": [
    {
     "name": "stdout",
     "output_type": "stream",
     "text": [
      "1/1 [==============================] - 5s 5s/step\n",
      "1/1 [==============================] - 4s 4s/step\n",
      "1/1 [==============================] - 4s 4s/step\n",
      "1/1 [==============================] - 4s 4s/step\n",
      "1/1 [==============================] - 4s 4s/step\n"
     ]
    }
   ],
   "source": [
    "if fast_sub:\n",
    "    sub_df = fast_df.copy()\n",
    "else:\n",
    "    sub_df = pd.read_csv('/kaggle/input/siim-covid19-detection/sample_submission.csv')\n",
    "sub_df = sub_df[study_len:]\n",
    "test_paths = f'/kaggle/tmp/{split}/image/' + sub_df['id'] +'.png'\n",
    "sub_df['none'] = 0\n",
    "\n",
    "label_cols = sub_df.columns[2]\n",
    "\n",
    "test_decoder = build_decoder(with_labels=False, target_size=(IMSIZE[8], IMSIZE[8]), ext='png')\n",
    "dtest = build_dataset(\n",
    "    test_paths, bsize=BATCH_SIZE, repeat=False, \n",
    "    shuffle=False, augment=False, cache=False,\n",
    "    decode_fn=test_decoder\n",
    ")\n",
    "\n",
    "with strategy.scope():\n",
    "    \n",
    "    models = []\n",
    "    \n",
    "    models0 = tf.keras.models.load_model(\n",
    "        '../input/siim-covid19-efnb7-train-fold0-5-2class/model0.h5'\n",
    "        # '/kaggle/input/my-efnb7-2class-ver1/model0.h5'\n",
    "    )\n",
    "    models1 = tf.keras.models.load_model(\n",
    "        '../input/siim-covid19-efnb7-train-fold0-5-2class/model1.h5'\n",
    "    )\n",
    "    models2 = tf.keras.models.load_model(\n",
    "        '../input/siim-covid19-efnb7-train-fold0-5-2class/model2.h5'\n",
    "    )\n",
    "    models3 = tf.keras.models.load_model(\n",
    "        '../input/siim-covid19-efnb7-train-fold0-5-2class/model3.h5'\n",
    "    )\n",
    "    models4 = tf.keras.models.load_model(\n",
    "        '../input/siim-covid19-efnb7-train-fold0-5-2class/model4.h5'\n",
    "    )\n",
    "    \n",
    "    models.append(models0)\n",
    "    models.append(models1)\n",
    "    models.append(models2)\n",
    "    models.append(models3)\n",
    "    models.append(models4)\n",
    "\n",
    "weights = {\n",
    "    0: 1,\n",
    "    1: 1,\n",
    "    2: 1,\n",
    "    3: 1,\n",
    "    4: 1\n",
    "}\n",
    "\n",
    "weights_sum = sum(weights.values())\n",
    "weights = {k: v/weights_sum for k, v in weights.items()}\n",
    "\n",
    "predictions = [model.predict(dtest, verbose=1) for model in models]\n",
    "for i, pred in enumerate(predictions):\n",
    "    predictions[i] = weights[i] * pred\n",
    "    \n",
    "sub_df[label_cols] = sum(predictions)\n",
    "#sub_df[label_cols] = sum([model.predict(dtest, verbose=1) for model in models]) / len(models)\n",
    "df_2class = sub_df.reset_index(drop=True)"
   ]
  },
  {
   "cell_type": "code",
   "execution_count": 16,
   "id": "fluid-chapter",
   "metadata": {
    "execution": {
     "iopub.execute_input": "2021-08-08T10:46:23.520403Z",
     "iopub.status.busy": "2021-08-08T10:46:23.519893Z",
     "iopub.status.idle": "2021-08-08T10:46:23.526197Z",
     "shell.execute_reply": "2021-08-08T10:46:23.524058Z",
     "shell.execute_reply.started": "2021-08-08T10:32:36.679744Z"
    },
    "papermill": {
     "duration": 0.063619,
     "end_time": "2021-08-08T10:46:23.526527",
     "exception": false,
     "start_time": "2021-08-08T10:46:23.462908",
     "status": "completed"
    },
    "tags": []
   },
   "outputs": [],
   "source": [
    "del models\n",
    "del models0, models1, models2, models3, models4\n",
    "\n",
    "#del models_2\n",
    "#del models5, models6, models7, models8, models9\n",
    "\n",
    "#del models_3\n",
    "#del models10, models11, models12, models13, models14"
   ]
  },
  {
   "cell_type": "code",
   "execution_count": 17,
   "id": "organizational-spell",
   "metadata": {
    "execution": {
     "iopub.execute_input": "2021-08-08T10:46:23.640684Z",
     "iopub.status.busy": "2021-08-08T10:46:23.640073Z",
     "iopub.status.idle": "2021-08-08T10:46:27.928547Z",
     "shell.execute_reply": "2021-08-08T10:46:27.929534Z",
     "shell.execute_reply.started": "2021-08-08T10:32:36.686204Z"
    },
    "papermill": {
     "duration": 4.344261,
     "end_time": "2021-08-08T10:46:27.929756",
     "exception": false,
     "start_time": "2021-08-08T10:46:23.585495",
     "status": "completed"
    },
    "tags": []
   },
   "outputs": [
    {
     "data": {
      "text/plain": [
       "<weakproxy at 0x7f81501e4e90 to Device at 0x7f81a5104190>"
      ]
     },
     "execution_count": 17,
     "metadata": {},
     "output_type": "execute_result"
    }
   ],
   "source": [
    "from numba import cuda\n",
    "import torch\n",
    "cuda.select_device(0)\n",
    "cuda.close()\n",
    "cuda.select_device(0)"
   ]
  },
  {
   "cell_type": "markdown",
   "id": "informational-gates",
   "metadata": {
    "papermill": {
     "duration": 0.075433,
     "end_time": "2021-08-08T10:46:28.086590",
     "exception": false,
     "start_time": "2021-08-08T10:46:28.011157",
     "status": "completed"
    },
    "tags": []
   },
   "source": [
    "# yolov5 predict"
   ]
  },
  {
   "cell_type": "code",
   "execution_count": 18,
   "id": "static-meter",
   "metadata": {
    "execution": {
     "iopub.execute_input": "2021-08-08T10:46:28.255443Z",
     "iopub.status.busy": "2021-08-08T10:46:28.253814Z",
     "iopub.status.idle": "2021-08-08T10:46:28.487251Z",
     "shell.execute_reply": "2021-08-08T10:46:28.488370Z",
     "shell.execute_reply.started": "2021-08-08T10:32:40.429496Z"
    },
    "papermill": {
     "duration": 0.323938,
     "end_time": "2021-08-08T10:46:28.488601",
     "exception": false,
     "start_time": "2021-08-08T10:46:28.164663",
     "status": "completed"
    },
    "tags": []
   },
   "outputs": [],
   "source": [
    "import numpy as np, pandas as pd\n",
    "from glob import glob\n",
    "import shutil, os\n",
    "import matplotlib.pyplot as plt\n",
    "from sklearn.model_selection import GroupKFold\n",
    "from tqdm.notebook import tqdm\n",
    "import seaborn as sns\n",
    "import torch"
   ]
  },
  {
   "cell_type": "code",
   "execution_count": 19,
   "id": "dated-charm",
   "metadata": {
    "execution": {
     "iopub.execute_input": "2021-08-08T10:46:28.668683Z",
     "iopub.status.busy": "2021-08-08T10:46:28.667765Z",
     "iopub.status.idle": "2021-08-08T10:46:28.673245Z",
     "shell.execute_reply": "2021-08-08T10:46:28.674369Z",
     "shell.execute_reply.started": "2021-08-08T10:32:40.677966Z"
    },
    "papermill": {
     "duration": 0.100839,
     "end_time": "2021-08-08T10:46:28.674568",
     "exception": false,
     "start_time": "2021-08-08T10:46:28.573729",
     "status": "completed"
    },
    "tags": []
   },
   "outputs": [],
   "source": [
    "meta = meta[meta['split'] == 'test']\n",
    "if fast_sub:\n",
    "    test_df = fast_df.copy()\n",
    "else:\n",
    "    test_df = pd.read_csv('/kaggle/input/siim-covid19-detection/sample_submission.csv')\n",
    "test_df = df[study_len:].reset_index(drop=True) \n",
    "meta['image_id'] = meta['image_id'] + '_image'\n",
    "meta.columns = ['id', 'dim0', 'dim1', 'split']\n",
    "test_df = pd.merge(test_df, meta, on = 'id', how = 'left')\n"
   ]
  },
  {
   "cell_type": "code",
   "execution_count": 20,
   "id": "alien-tamil",
   "metadata": {
    "execution": {
     "iopub.execute_input": "2021-08-08T10:46:28.852008Z",
     "iopub.status.busy": "2021-08-08T10:46:28.841893Z",
     "iopub.status.idle": "2021-08-08T10:46:44.954168Z",
     "shell.execute_reply": "2021-08-08T10:46:44.955340Z",
     "shell.execute_reply.started": "2021-08-08T10:32:40.700508Z"
    },
    "papermill": {
     "duration": 16.201972,
     "end_time": "2021-08-08T10:46:44.955562",
     "exception": false,
     "start_time": "2021-08-08T10:46:28.753590",
     "status": "completed"
    },
    "tags": []
   },
   "outputs": [
    {
     "name": "stdout",
     "output_type": "stream",
     "text": [
      "fatal: not a git repository (or any parent up to mount point /kaggle)\r\n",
      "Stopping at filesystem boundary (GIT_DISCOVERY_ACROSS_FILESYSTEM not set).\r\n",
      "\u001b[34m\u001b[1mdetect: \u001b[0mweights=['/kaggle/input/weights-of-yolov5-150-epochs/best.pt'], source=/kaggle/tmp/test/image, imgsz=512, conf_thres=0.001, iou_thres=0.5, max_det=1000, device=, view_img=False, save_txt=True, save_conf=True, save_crop=False, nosave=False, classes=None, agnostic_nms=False, augment=True, visualize=False, update=False, project=runs/detect, name=exp, exist_ok=True, line_thickness=3, hide_labels=False, hide_conf=False, half=False\r\n",
      "image 1/2 /kaggle/tmp/test/image/51759b5579bc_image.png: 512x512 49 0. opacitys, Done. (0.183s)\r\n",
      "image 2/2 /kaggle/tmp/test/image/65761e66de9f_image.png: 512x512 41 0. opacitys, Done. (0.133s)\r\n",
      "Results saved to runs/detect/exp\r\n",
      "2 labels saved to runs/detect/exp/labels\r\n",
      "Done. (0.463s)\r\n"
     ]
    },
    {
     "data": {
      "application/vnd.jupyter.widget-view+json": {
       "model_id": "32c38c96ab44449ea4824c036d2697e8",
       "version_major": 2,
       "version_minor": 0
      },
      "text/plain": [
       "  0%|          | 0/2 [00:00<?, ?it/s]"
      ]
     },
     "metadata": {},
     "output_type": "display_data"
    }
   ],
   "source": [
    "dim = 512 #1024, 256, 'original'\n",
    "test_dir = f'/kaggle/tmp/{split}/image'\n",
    "weights_dir = '/kaggle/input/weights-of-yolov5-150-epochs/best.pt'\n",
    "\n",
    "shutil.copytree('/kaggle/input/yolov5-repo/yolov5-master', '/kaggle/working/yolov5')\n",
    "os.chdir('/kaggle/working/yolov5') # install dependencies\n",
    "!git pull\n",
    "\n",
    "import torch\n",
    "#from IPython.display import Image, clear_output  # to display images\n",
    "\n",
    "#clear_output()\n",
    "#print('Setup complete. Using torch %s %s' % (torch.__version__, torch.cuda.get_device_properties(0) if torch.cuda.is_available() else 'CPU'))\n",
    "\n",
    "\n",
    "!python detect.py --weights $weights_dir\\\n",
    "--img 512\\\n",
    "--conf 0.001\\\n",
    "--iou 0.5\\\n",
    "--augment\\\n",
    "--source $test_dir\\\n",
    "--save-txt --save-conf --exist-ok\n",
    "def yolo2voc(image_height, image_width, bboxes):\n",
    "    \"\"\"\n",
    "    yolo => [xmid, ymid, w, h] (normalized)\n",
    "    voc  => [x1, y1, x2, y1]\n",
    "\n",
    "    \"\"\" \n",
    "    bboxes = bboxes.copy().astype(float) # otherwise all value will be 0 as voc_pascal dtype is np.int\n",
    "\n",
    "    bboxes[..., [0, 2]] = bboxes[..., [0, 2]]* image_width\n",
    "    bboxes[..., [1, 3]] = bboxes[..., [1, 3]]* image_height\n",
    "\n",
    "    bboxes[..., [0, 1]] = bboxes[..., [0, 1]] - bboxes[..., [2, 3]]/2\n",
    "    bboxes[..., [2, 3]] = bboxes[..., [0, 1]] + bboxes[..., [2, 3]]\n",
    "\n",
    "    return bboxes\n",
    "\n",
    "image_ids = []\n",
    "PredictionStrings = []\n",
    "\n",
    "for file_path in tqdm(glob('runs/detect/exp/labels/*.txt')):\n",
    "    image_id = file_path.split('/')[-1].split('.')[0]\n",
    "    w, h = test_df.loc[test_df.id==image_id,['dim1', 'dim0']].values[0]\n",
    "    f = open(file_path, 'r')\n",
    "    data = np.array(f.read().replace('\\n', ' ').strip().split(' ')).astype(np.float32).reshape(-1, 6)\n",
    "    data = data[:, [0, 5, 1, 2, 3, 4]]\n",
    "    bboxes = list(np.round(np.concatenate((data[:, :2], np.round(yolo2voc(h, w, data[:, 2:]))), axis =1).reshape(-1), 12).astype(str))\n",
    "    for idx in range(len(bboxes)):\n",
    "        bboxes[idx] = str(int(float(bboxes[idx]))) if idx%6!=1 else bboxes[idx]\n",
    "    image_ids.append(image_id)\n",
    "    PredictionStrings.append(' '.join(bboxes))\n",
    "\n",
    "\n",
    "pred_df = pd.DataFrame({'id':image_ids,\n",
    "                        'PredictionString':PredictionStrings})"
   ]
  },
  {
   "cell_type": "code",
   "execution_count": 21,
   "id": "incorporate-terrorist",
   "metadata": {
    "execution": {
     "iopub.execute_input": "2021-08-08T10:46:45.126873Z",
     "iopub.status.busy": "2021-08-08T10:46:45.125884Z",
     "iopub.status.idle": "2021-08-08T10:46:45.374400Z",
     "shell.execute_reply": "2021-08-08T10:46:45.373935Z",
     "shell.execute_reply.started": "2021-08-08T10:32:55.057991Z"
    },
    "papermill": {
     "duration": 0.328389,
     "end_time": "2021-08-08T10:46:45.374515",
     "exception": false,
     "start_time": "2021-08-08T10:46:45.046126",
     "status": "completed"
    },
    "tags": []
   },
   "outputs": [],
   "source": [
    "test_df = test_df.drop(['PredictionString'], axis=1)\n",
    "sub_df = pd.merge(test_df, pred_df, on = 'id', how = 'left').fillna(\"none 1 0 0 1 1\")\n",
    "sub_df = sub_df[['id', 'PredictionString']]\n",
    "for i in range(sub_df.shape[0]):\n",
    "    if sub_df.loc[i,'PredictionString'] == \"none 1 0 0 1 1\":\n",
    "        continue\n",
    "    sub_df_split = sub_df.loc[i,'PredictionString'].split()\n",
    "    sub_df_list = []\n",
    "    for j in range(int(len(sub_df_split) / 6)):\n",
    "        sub_df_list.append('opacity')\n",
    "        sub_df_list.append(sub_df_split[6 * j + 1])\n",
    "        sub_df_list.append(sub_df_split[6 * j + 2])\n",
    "        sub_df_list.append(sub_df_split[6 * j + 3])\n",
    "        sub_df_list.append(sub_df_split[6 * j + 4])\n",
    "        sub_df_list.append(sub_df_split[6 * j + 5])\n",
    "    sub_df.loc[i,'PredictionString'] = ' '.join(sub_df_list)\n",
    "sub_df['none'] = df_2class['none'] \n",
    "for i in range(sub_df.shape[0]):\n",
    "    if sub_df.loc[i,'PredictionString'] != 'none 1 0 0 1 1':\n",
    "        sub_df.loc[i,'PredictionString'] = sub_df.loc[i,'PredictionString'] + ' none ' + str(sub_df.loc[i,'none']) + ' 0 0 1 1'\n",
    "sub_df = sub_df[['id', 'PredictionString']]   \n",
    "df_study = df_study[:study_len]\n",
    "df_study = df_study.append(sub_df).reset_index(drop=True)\n",
    "df_study.to_csv('/kaggle/working/submission.csv',index = False)  \n",
    "shutil.rmtree('/kaggle/working/yolov5')"
   ]
  },
  {
   "cell_type": "code",
   "execution_count": null,
   "id": "approximate-retreat",
   "metadata": {
    "papermill": {
     "duration": 0.048046,
     "end_time": "2021-08-08T10:46:45.470976",
     "exception": false,
     "start_time": "2021-08-08T10:46:45.422930",
     "status": "completed"
    },
    "tags": []
   },
   "outputs": [],
   "source": []
  }
 ],
 "metadata": {
  "kernelspec": {
   "display_name": "Python 3",
   "language": "python",
   "name": "python3"
  },
  "language_info": {
   "codemirror_mode": {
    "name": "ipython",
    "version": 3
   },
   "file_extension": ".py",
   "mimetype": "text/x-python",
   "name": "python",
   "nbconvert_exporter": "python",
   "pygments_lexer": "ipython3",
   "version": "3.7.10"
  },
  "papermill": {
   "default_parameters": {},
   "duration": 661.810529,
   "end_time": "2021-08-08T10:46:48.312028",
   "environment_variables": {},
   "exception": null,
   "input_path": "__notebook__.ipynb",
   "output_path": "__notebook__.ipynb",
   "parameters": {},
   "start_time": "2021-08-08T10:35:46.501499",
   "version": "2.3.3"
  },
  "widgets": {
   "application/vnd.jupyter.widget-state+json": {
    "state": {
     "17293e0088864784ae959959910cc619": {
      "model_module": "@jupyter-widgets/base",
      "model_module_version": "1.2.0",
      "model_name": "LayoutModel",
      "state": {
       "_model_module": "@jupyter-widgets/base",
       "_model_module_version": "1.2.0",
       "_model_name": "LayoutModel",
       "_view_count": null,
       "_view_module": "@jupyter-widgets/base",
       "_view_module_version": "1.2.0",
       "_view_name": "LayoutView",
       "align_content": null,
       "align_items": null,
       "align_self": null,
       "border": null,
       "bottom": null,
       "display": null,
       "flex": null,
       "flex_flow": null,
       "grid_area": null,
       "grid_auto_columns": null,
       "grid_auto_flow": null,
       "grid_auto_rows": null,
       "grid_column": null,
       "grid_gap": null,
       "grid_row": null,
       "grid_template_areas": null,
       "grid_template_columns": null,
       "grid_template_rows": null,
       "height": null,
       "justify_content": null,
       "justify_items": null,
       "left": null,
       "margin": null,
       "max_height": null,
       "max_width": null,
       "min_height": null,
       "min_width": null,
       "object_fit": null,
       "object_position": null,
       "order": null,
       "overflow": null,
       "overflow_x": null,
       "overflow_y": null,
       "padding": null,
       "right": null,
       "top": null,
       "visibility": null,
       "width": null
      }
     },
     "18de2d1b9c2745ba829ccae4fdbd63ba": {
      "model_module": "@jupyter-widgets/controls",
      "model_module_version": "1.5.0",
      "model_name": "HTMLModel",
      "state": {
       "_dom_classes": [],
       "_model_module": "@jupyter-widgets/controls",
       "_model_module_version": "1.5.0",
       "_model_name": "HTMLModel",
       "_view_count": null,
       "_view_module": "@jupyter-widgets/controls",
       "_view_module_version": "1.5.0",
       "_view_name": "HTMLView",
       "description": "",
       "description_tooltip": null,
       "layout": "IPY_MODEL_17293e0088864784ae959959910cc619",
       "placeholder": "​",
       "style": "IPY_MODEL_890fd24417df4a4aa498bbaf71a18718",
       "value": " 2/2 [00:00&lt;00:00, 29.31it/s]"
      }
     },
     "1cd5b5e46df84b359c04c975ae717fc7": {
      "model_module": "@jupyter-widgets/base",
      "model_module_version": "1.2.0",
      "model_name": "LayoutModel",
      "state": {
       "_model_module": "@jupyter-widgets/base",
       "_model_module_version": "1.2.0",
       "_model_name": "LayoutModel",
       "_view_count": null,
       "_view_module": "@jupyter-widgets/base",
       "_view_module_version": "1.2.0",
       "_view_name": "LayoutView",
       "align_content": null,
       "align_items": null,
       "align_self": null,
       "border": null,
       "bottom": null,
       "display": null,
       "flex": null,
       "flex_flow": null,
       "grid_area": null,
       "grid_auto_columns": null,
       "grid_auto_flow": null,
       "grid_auto_rows": null,
       "grid_column": null,
       "grid_gap": null,
       "grid_row": null,
       "grid_template_areas": null,
       "grid_template_columns": null,
       "grid_template_rows": null,
       "height": null,
       "justify_content": null,
       "justify_items": null,
       "left": null,
       "margin": null,
       "max_height": null,
       "max_width": null,
       "min_height": null,
       "min_width": null,
       "object_fit": null,
       "object_position": null,
       "order": null,
       "overflow": null,
       "overflow_x": null,
       "overflow_y": null,
       "padding": null,
       "right": null,
       "top": null,
       "visibility": null,
       "width": null
      }
     },
     "2a6efc852d694847b2b756808d87912f": {
      "model_module": "@jupyter-widgets/controls",
      "model_module_version": "1.5.0",
      "model_name": "FloatProgressModel",
      "state": {
       "_dom_classes": [],
       "_model_module": "@jupyter-widgets/controls",
       "_model_module_version": "1.5.0",
       "_model_name": "FloatProgressModel",
       "_view_count": null,
       "_view_module": "@jupyter-widgets/controls",
       "_view_module_version": "1.5.0",
       "_view_name": "ProgressView",
       "bar_style": "success",
       "description": "",
       "description_tooltip": null,
       "layout": "IPY_MODEL_ac99ed2d7739462f9d7dbf4ea4551368",
       "max": 2.0,
       "min": 0.0,
       "orientation": "horizontal",
       "style": "IPY_MODEL_4e3c9984d767421c86ed7878cbfcdf35",
       "value": 2.0
      }
     },
     "32c38c96ab44449ea4824c036d2697e8": {
      "model_module": "@jupyter-widgets/controls",
      "model_module_version": "1.5.0",
      "model_name": "HBoxModel",
      "state": {
       "_dom_classes": [],
       "_model_module": "@jupyter-widgets/controls",
       "_model_module_version": "1.5.0",
       "_model_name": "HBoxModel",
       "_view_count": null,
       "_view_module": "@jupyter-widgets/controls",
       "_view_module_version": "1.5.0",
       "_view_name": "HBoxView",
       "box_style": "",
       "children": [
        "IPY_MODEL_520c75adb4944af69152ca843419669c",
        "IPY_MODEL_2a6efc852d694847b2b756808d87912f",
        "IPY_MODEL_18de2d1b9c2745ba829ccae4fdbd63ba"
       ],
       "layout": "IPY_MODEL_e3bf9e65c97f4f8b859823319abe23d5"
      }
     },
     "3cb849977808408593473c4652967dbd": {
      "model_module": "@jupyter-widgets/controls",
      "model_module_version": "1.5.0",
      "model_name": "DescriptionStyleModel",
      "state": {
       "_model_module": "@jupyter-widgets/controls",
       "_model_module_version": "1.5.0",
       "_model_name": "DescriptionStyleModel",
       "_view_count": null,
       "_view_module": "@jupyter-widgets/base",
       "_view_module_version": "1.2.0",
       "_view_name": "StyleView",
       "description_width": ""
      }
     },
     "4e3c9984d767421c86ed7878cbfcdf35": {
      "model_module": "@jupyter-widgets/controls",
      "model_module_version": "1.5.0",
      "model_name": "ProgressStyleModel",
      "state": {
       "_model_module": "@jupyter-widgets/controls",
       "_model_module_version": "1.5.0",
       "_model_name": "ProgressStyleModel",
       "_view_count": null,
       "_view_module": "@jupyter-widgets/base",
       "_view_module_version": "1.2.0",
       "_view_name": "StyleView",
       "bar_color": null,
       "description_width": ""
      }
     },
     "520c75adb4944af69152ca843419669c": {
      "model_module": "@jupyter-widgets/controls",
      "model_module_version": "1.5.0",
      "model_name": "HTMLModel",
      "state": {
       "_dom_classes": [],
       "_model_module": "@jupyter-widgets/controls",
       "_model_module_version": "1.5.0",
       "_model_name": "HTMLModel",
       "_view_count": null,
       "_view_module": "@jupyter-widgets/controls",
       "_view_module_version": "1.5.0",
       "_view_name": "HTMLView",
       "description": "",
       "description_tooltip": null,
       "layout": "IPY_MODEL_1cd5b5e46df84b359c04c975ae717fc7",
       "placeholder": "​",
       "style": "IPY_MODEL_3cb849977808408593473c4652967dbd",
       "value": "100%"
      }
     },
     "890fd24417df4a4aa498bbaf71a18718": {
      "model_module": "@jupyter-widgets/controls",
      "model_module_version": "1.5.0",
      "model_name": "DescriptionStyleModel",
      "state": {
       "_model_module": "@jupyter-widgets/controls",
       "_model_module_version": "1.5.0",
       "_model_name": "DescriptionStyleModel",
       "_view_count": null,
       "_view_module": "@jupyter-widgets/base",
       "_view_module_version": "1.2.0",
       "_view_name": "StyleView",
       "description_width": ""
      }
     },
     "ac99ed2d7739462f9d7dbf4ea4551368": {
      "model_module": "@jupyter-widgets/base",
      "model_module_version": "1.2.0",
      "model_name": "LayoutModel",
      "state": {
       "_model_module": "@jupyter-widgets/base",
       "_model_module_version": "1.2.0",
       "_model_name": "LayoutModel",
       "_view_count": null,
       "_view_module": "@jupyter-widgets/base",
       "_view_module_version": "1.2.0",
       "_view_name": "LayoutView",
       "align_content": null,
       "align_items": null,
       "align_self": null,
       "border": null,
       "bottom": null,
       "display": null,
       "flex": null,
       "flex_flow": null,
       "grid_area": null,
       "grid_auto_columns": null,
       "grid_auto_flow": null,
       "grid_auto_rows": null,
       "grid_column": null,
       "grid_gap": null,
       "grid_row": null,
       "grid_template_areas": null,
       "grid_template_columns": null,
       "grid_template_rows": null,
       "height": null,
       "justify_content": null,
       "justify_items": null,
       "left": null,
       "margin": null,
       "max_height": null,
       "max_width": null,
       "min_height": null,
       "min_width": null,
       "object_fit": null,
       "object_position": null,
       "order": null,
       "overflow": null,
       "overflow_x": null,
       "overflow_y": null,
       "padding": null,
       "right": null,
       "top": null,
       "visibility": null,
       "width": null
      }
     },
     "e3bf9e65c97f4f8b859823319abe23d5": {
      "model_module": "@jupyter-widgets/base",
      "model_module_version": "1.2.0",
      "model_name": "LayoutModel",
      "state": {
       "_model_module": "@jupyter-widgets/base",
       "_model_module_version": "1.2.0",
       "_model_name": "LayoutModel",
       "_view_count": null,
       "_view_module": "@jupyter-widgets/base",
       "_view_module_version": "1.2.0",
       "_view_name": "LayoutView",
       "align_content": null,
       "align_items": null,
       "align_self": null,
       "border": null,
       "bottom": null,
       "display": null,
       "flex": null,
       "flex_flow": null,
       "grid_area": null,
       "grid_auto_columns": null,
       "grid_auto_flow": null,
       "grid_auto_rows": null,
       "grid_column": null,
       "grid_gap": null,
       "grid_row": null,
       "grid_template_areas": null,
       "grid_template_columns": null,
       "grid_template_rows": null,
       "height": null,
       "justify_content": null,
       "justify_items": null,
       "left": null,
       "margin": null,
       "max_height": null,
       "max_width": null,
       "min_height": null,
       "min_width": null,
       "object_fit": null,
       "object_position": null,
       "order": null,
       "overflow": null,
       "overflow_x": null,
       "overflow_y": null,
       "padding": null,
       "right": null,
       "top": null,
       "visibility": null,
       "width": null
      }
     }
    },
    "version_major": 2,
    "version_minor": 0
   }
  }
 },
 "nbformat": 4,
 "nbformat_minor": 5
}
